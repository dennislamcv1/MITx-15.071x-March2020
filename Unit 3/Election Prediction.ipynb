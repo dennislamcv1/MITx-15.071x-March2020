{
 "cells": [
  {
   "cell_type": "markdown",
   "metadata": {},
   "source": [
    "### Data Dictionary"
   ]
  },
  {
   "cell_type": "markdown",
   "metadata": {},
   "source": [
    "Predict the winner in an election"
   ]
  },
  {
   "cell_type": "markdown",
   "metadata": {},
   "source": [
    "### Import Libraries"
   ]
  },
  {
   "cell_type": "code",
   "execution_count": 1,
   "metadata": {},
   "outputs": [
    {
     "name": "stderr",
     "output_type": "stream",
     "text": [
      "Using TensorFlow backend.\n",
      "C:\\ProgramData\\Anaconda3\\lib\\site-packages\\tensorflow\\python\\framework\\dtypes.py:526: FutureWarning: Passing (type, 1) or '1type' as a synonym of type is deprecated; in a future version of numpy, it will be understood as (type, (1,)) / '(1,)type'.\n",
      "  _np_qint8 = np.dtype([(\"qint8\", np.int8, 1)])\n",
      "C:\\ProgramData\\Anaconda3\\lib\\site-packages\\tensorflow\\python\\framework\\dtypes.py:527: FutureWarning: Passing (type, 1) or '1type' as a synonym of type is deprecated; in a future version of numpy, it will be understood as (type, (1,)) / '(1,)type'.\n",
      "  _np_quint8 = np.dtype([(\"quint8\", np.uint8, 1)])\n",
      "C:\\ProgramData\\Anaconda3\\lib\\site-packages\\tensorflow\\python\\framework\\dtypes.py:528: FutureWarning: Passing (type, 1) or '1type' as a synonym of type is deprecated; in a future version of numpy, it will be understood as (type, (1,)) / '(1,)type'.\n",
      "  _np_qint16 = np.dtype([(\"qint16\", np.int16, 1)])\n",
      "C:\\ProgramData\\Anaconda3\\lib\\site-packages\\tensorflow\\python\\framework\\dtypes.py:529: FutureWarning: Passing (type, 1) or '1type' as a synonym of type is deprecated; in a future version of numpy, it will be understood as (type, (1,)) / '(1,)type'.\n",
      "  _np_quint16 = np.dtype([(\"quint16\", np.uint16, 1)])\n",
      "C:\\ProgramData\\Anaconda3\\lib\\site-packages\\tensorflow\\python\\framework\\dtypes.py:530: FutureWarning: Passing (type, 1) or '1type' as a synonym of type is deprecated; in a future version of numpy, it will be understood as (type, (1,)) / '(1,)type'.\n",
      "  _np_qint32 = np.dtype([(\"qint32\", np.int32, 1)])\n",
      "C:\\ProgramData\\Anaconda3\\lib\\site-packages\\tensorflow\\python\\framework\\dtypes.py:535: FutureWarning: Passing (type, 1) or '1type' as a synonym of type is deprecated; in a future version of numpy, it will be understood as (type, (1,)) / '(1,)type'.\n",
      "  np_resource = np.dtype([(\"resource\", np.ubyte, 1)])\n"
     ]
    }
   ],
   "source": [
    "import numpy as np\n",
    "import pandas as pd\n",
    "import matplotlib.pyplot as plt\n",
    "import seaborn as sns\n",
    "import sklearn\n",
    "\n",
    "import xgboost as xgb\n",
    "from xgboost import XGBClassifier, XGBRegressor\n",
    "from xgboost import to_graphviz, plot_importance\n",
    "\n",
    "from sklearn.experimental import enable_hist_gradient_boosting\n",
    "from sklearn.ensemble import _hist_gradient_boosting\n",
    "from sklearn.ensemble import HistGradientBoostingRegressor, HistGradientBoostingRegressor\n",
    "\n",
    "%matplotlib inline\n",
    "sns.set_style('dark')\n",
    "sns.set(font_scale=1.5)\n",
    "\n",
    "from sklearn.model_selection import cross_val_score, train_test_split, GridSearchCV, RandomizedSearchCV\n",
    "from sklearn.preprocessing import LabelEncoder, StandardScaler, MinMaxScaler, OneHotEncoder\n",
    "from sklearn.metrics import confusion_matrix, classification_report, mean_absolute_error, mean_squared_error,r2_score\n",
    "from sklearn.metrics import plot_confusion_matrix, plot_precision_recall_curve, plot_roc_curve, accuracy_score\n",
    "from sklearn.metrics import auc, f1_score, precision_score, recall_score, roc_auc_score\n",
    "\n",
    "import keras\n",
    "from keras.models import save_model, Sequential\n",
    "from keras.layers import Activation, BatchNormalization, Dense\n",
    "from keras.optimizers import Adam\n",
    "\n",
    "import feature_engine.missing_data_imputers as mdi\n",
    "from feature_engine.outlier_removers import Winsorizer\n",
    "\n",
    "from tpot import TPOTClassifier, TPOTRegressor\n",
    "\n",
    "import warnings\n",
    "warnings.filterwarnings('ignore')\n",
    "\n",
    "pd.options.display.max_columns= None\n",
    "#pd.options.display.max_rows = None"
   ]
  },
  {
   "cell_type": "markdown",
   "metadata": {},
   "source": [
    "### Data Exploration"
   ]
  },
  {
   "cell_type": "code",
   "execution_count": 2,
   "metadata": {},
   "outputs": [],
   "source": [
    "df = pd.read_csv(\"PollingData.csv\")"
   ]
  },
  {
   "cell_type": "code",
   "execution_count": 3,
   "metadata": {},
   "outputs": [
    {
     "data": {
      "text/html": [
       "<div>\n",
       "<style scoped>\n",
       "    .dataframe tbody tr th:only-of-type {\n",
       "        vertical-align: middle;\n",
       "    }\n",
       "\n",
       "    .dataframe tbody tr th {\n",
       "        vertical-align: top;\n",
       "    }\n",
       "\n",
       "    .dataframe thead th {\n",
       "        text-align: right;\n",
       "    }\n",
       "</style>\n",
       "<table border=\"1\" class=\"dataframe\">\n",
       "  <thead>\n",
       "    <tr style=\"text-align: right;\">\n",
       "      <th></th>\n",
       "      <th>State</th>\n",
       "      <th>Year</th>\n",
       "      <th>Rasmussen</th>\n",
       "      <th>SurveyUSA</th>\n",
       "      <th>DiffCount</th>\n",
       "      <th>PropR</th>\n",
       "      <th>Republican</th>\n",
       "    </tr>\n",
       "  </thead>\n",
       "  <tbody>\n",
       "    <tr>\n",
       "      <th>0</th>\n",
       "      <td>Alabama</td>\n",
       "      <td>2004</td>\n",
       "      <td>11.0</td>\n",
       "      <td>18.0</td>\n",
       "      <td>5</td>\n",
       "      <td>1.000000</td>\n",
       "      <td>1</td>\n",
       "    </tr>\n",
       "    <tr>\n",
       "      <th>1</th>\n",
       "      <td>Alabama</td>\n",
       "      <td>2008</td>\n",
       "      <td>21.0</td>\n",
       "      <td>25.0</td>\n",
       "      <td>5</td>\n",
       "      <td>1.000000</td>\n",
       "      <td>1</td>\n",
       "    </tr>\n",
       "    <tr>\n",
       "      <th>2</th>\n",
       "      <td>Alaska</td>\n",
       "      <td>2004</td>\n",
       "      <td>NaN</td>\n",
       "      <td>NaN</td>\n",
       "      <td>1</td>\n",
       "      <td>1.000000</td>\n",
       "      <td>1</td>\n",
       "    </tr>\n",
       "    <tr>\n",
       "      <th>3</th>\n",
       "      <td>Alaska</td>\n",
       "      <td>2008</td>\n",
       "      <td>16.0</td>\n",
       "      <td>NaN</td>\n",
       "      <td>6</td>\n",
       "      <td>1.000000</td>\n",
       "      <td>1</td>\n",
       "    </tr>\n",
       "    <tr>\n",
       "      <th>4</th>\n",
       "      <td>Arizona</td>\n",
       "      <td>2004</td>\n",
       "      <td>5.0</td>\n",
       "      <td>15.0</td>\n",
       "      <td>8</td>\n",
       "      <td>1.000000</td>\n",
       "      <td>1</td>\n",
       "    </tr>\n",
       "    <tr>\n",
       "      <th>...</th>\n",
       "      <td>...</td>\n",
       "      <td>...</td>\n",
       "      <td>...</td>\n",
       "      <td>...</td>\n",
       "      <td>...</td>\n",
       "      <td>...</td>\n",
       "      <td>...</td>\n",
       "    </tr>\n",
       "    <tr>\n",
       "      <th>140</th>\n",
       "      <td>Wisconsin</td>\n",
       "      <td>2004</td>\n",
       "      <td>-1.0</td>\n",
       "      <td>NaN</td>\n",
       "      <td>1</td>\n",
       "      <td>0.533333</td>\n",
       "      <td>0</td>\n",
       "    </tr>\n",
       "    <tr>\n",
       "      <th>141</th>\n",
       "      <td>Wisconsin</td>\n",
       "      <td>2008</td>\n",
       "      <td>-7.0</td>\n",
       "      <td>-16.0</td>\n",
       "      <td>-12</td>\n",
       "      <td>0.000000</td>\n",
       "      <td>0</td>\n",
       "    </tr>\n",
       "    <tr>\n",
       "      <th>142</th>\n",
       "      <td>Wisconsin</td>\n",
       "      <td>2012</td>\n",
       "      <td>0.0</td>\n",
       "      <td>NaN</td>\n",
       "      <td>-8</td>\n",
       "      <td>0.000000</td>\n",
       "      <td>0</td>\n",
       "    </tr>\n",
       "    <tr>\n",
       "      <th>143</th>\n",
       "      <td>Wyoming</td>\n",
       "      <td>2004</td>\n",
       "      <td>NaN</td>\n",
       "      <td>NaN</td>\n",
       "      <td>1</td>\n",
       "      <td>1.000000</td>\n",
       "      <td>1</td>\n",
       "    </tr>\n",
       "    <tr>\n",
       "      <th>144</th>\n",
       "      <td>Wyoming</td>\n",
       "      <td>2008</td>\n",
       "      <td>19.0</td>\n",
       "      <td>21.0</td>\n",
       "      <td>3</td>\n",
       "      <td>1.000000</td>\n",
       "      <td>1</td>\n",
       "    </tr>\n",
       "  </tbody>\n",
       "</table>\n",
       "<p>145 rows × 7 columns</p>\n",
       "</div>"
      ],
      "text/plain": [
       "         State  Year  Rasmussen  SurveyUSA  DiffCount     PropR  Republican\n",
       "0      Alabama  2004       11.0       18.0          5  1.000000           1\n",
       "1      Alabama  2008       21.0       25.0          5  1.000000           1\n",
       "2       Alaska  2004        NaN        NaN          1  1.000000           1\n",
       "3       Alaska  2008       16.0        NaN          6  1.000000           1\n",
       "4      Arizona  2004        5.0       15.0          8  1.000000           1\n",
       "..         ...   ...        ...        ...        ...       ...         ...\n",
       "140  Wisconsin  2004       -1.0        NaN          1  0.533333           0\n",
       "141  Wisconsin  2008       -7.0      -16.0        -12  0.000000           0\n",
       "142  Wisconsin  2012        0.0        NaN         -8  0.000000           0\n",
       "143    Wyoming  2004        NaN        NaN          1  1.000000           1\n",
       "144    Wyoming  2008       19.0       21.0          3  1.000000           1\n",
       "\n",
       "[145 rows x 7 columns]"
      ]
     },
     "execution_count": 3,
     "metadata": {},
     "output_type": "execute_result"
    }
   ],
   "source": [
    "df"
   ]
  },
  {
   "cell_type": "code",
   "execution_count": 4,
   "metadata": {},
   "outputs": [
    {
     "name": "stdout",
     "output_type": "stream",
     "text": [
      "<class 'pandas.core.frame.DataFrame'>\n",
      "RangeIndex: 145 entries, 0 to 144\n",
      "Data columns (total 7 columns):\n",
      " #   Column      Non-Null Count  Dtype  \n",
      "---  ------      --------------  -----  \n",
      " 0   State       145 non-null    object \n",
      " 1   Year        145 non-null    int64  \n",
      " 2   Rasmussen   99 non-null     float64\n",
      " 3   SurveyUSA   74 non-null     float64\n",
      " 4   DiffCount   145 non-null    int64  \n",
      " 5   PropR       145 non-null    float64\n",
      " 6   Republican  145 non-null    int64  \n",
      "dtypes: float64(3), int64(3), object(1)\n",
      "memory usage: 8.1+ KB\n"
     ]
    }
   ],
   "source": [
    "df.info()"
   ]
  },
  {
   "cell_type": "code",
   "execution_count": 5,
   "metadata": {},
   "outputs": [
    {
     "data": {
      "text/html": [
       "<div>\n",
       "<style scoped>\n",
       "    .dataframe tbody tr th:only-of-type {\n",
       "        vertical-align: middle;\n",
       "    }\n",
       "\n",
       "    .dataframe tbody tr th {\n",
       "        vertical-align: top;\n",
       "    }\n",
       "\n",
       "    .dataframe thead th {\n",
       "        text-align: right;\n",
       "    }\n",
       "</style>\n",
       "<table border=\"1\" class=\"dataframe\">\n",
       "  <thead>\n",
       "    <tr style=\"text-align: right;\">\n",
       "      <th></th>\n",
       "      <th>State</th>\n",
       "      <th>Year</th>\n",
       "      <th>Rasmussen</th>\n",
       "      <th>SurveyUSA</th>\n",
       "      <th>DiffCount</th>\n",
       "      <th>PropR</th>\n",
       "      <th>Republican</th>\n",
       "    </tr>\n",
       "  </thead>\n",
       "  <tbody>\n",
       "    <tr>\n",
       "      <th>count</th>\n",
       "      <td>145</td>\n",
       "      <td>145.000000</td>\n",
       "      <td>99.000000</td>\n",
       "      <td>74.000000</td>\n",
       "      <td>145.000000</td>\n",
       "      <td>145.000000</td>\n",
       "      <td>145.000000</td>\n",
       "    </tr>\n",
       "    <tr>\n",
       "      <th>unique</th>\n",
       "      <td>50</td>\n",
       "      <td>NaN</td>\n",
       "      <td>NaN</td>\n",
       "      <td>NaN</td>\n",
       "      <td>NaN</td>\n",
       "      <td>NaN</td>\n",
       "      <td>NaN</td>\n",
       "    </tr>\n",
       "    <tr>\n",
       "      <th>top</th>\n",
       "      <td>Arizona</td>\n",
       "      <td>NaN</td>\n",
       "      <td>NaN</td>\n",
       "      <td>NaN</td>\n",
       "      <td>NaN</td>\n",
       "      <td>NaN</td>\n",
       "      <td>NaN</td>\n",
       "    </tr>\n",
       "    <tr>\n",
       "      <th>freq</th>\n",
       "      <td>3</td>\n",
       "      <td>NaN</td>\n",
       "      <td>NaN</td>\n",
       "      <td>NaN</td>\n",
       "      <td>NaN</td>\n",
       "      <td>NaN</td>\n",
       "      <td>NaN</td>\n",
       "    </tr>\n",
       "    <tr>\n",
       "      <th>mean</th>\n",
       "      <td>NaN</td>\n",
       "      <td>2007.862069</td>\n",
       "      <td>0.040404</td>\n",
       "      <td>-0.824324</td>\n",
       "      <td>-1.268966</td>\n",
       "      <td>0.525943</td>\n",
       "      <td>0.510345</td>\n",
       "    </tr>\n",
       "    <tr>\n",
       "      <th>std</th>\n",
       "      <td>NaN</td>\n",
       "      <td>3.245982</td>\n",
       "      <td>13.426990</td>\n",
       "      <td>14.257282</td>\n",
       "      <td>6.353318</td>\n",
       "      <td>0.466495</td>\n",
       "      <td>0.501626</td>\n",
       "    </tr>\n",
       "    <tr>\n",
       "      <th>min</th>\n",
       "      <td>NaN</td>\n",
       "      <td>2004.000000</td>\n",
       "      <td>-41.000000</td>\n",
       "      <td>-33.000000</td>\n",
       "      <td>-19.000000</td>\n",
       "      <td>0.000000</td>\n",
       "      <td>0.000000</td>\n",
       "    </tr>\n",
       "    <tr>\n",
       "      <th>25%</th>\n",
       "      <td>NaN</td>\n",
       "      <td>2004.000000</td>\n",
       "      <td>-8.000000</td>\n",
       "      <td>-11.750000</td>\n",
       "      <td>-6.000000</td>\n",
       "      <td>0.000000</td>\n",
       "      <td>0.000000</td>\n",
       "    </tr>\n",
       "    <tr>\n",
       "      <th>50%</th>\n",
       "      <td>NaN</td>\n",
       "      <td>2008.000000</td>\n",
       "      <td>1.000000</td>\n",
       "      <td>-2.000000</td>\n",
       "      <td>1.000000</td>\n",
       "      <td>0.625000</td>\n",
       "      <td>1.000000</td>\n",
       "    </tr>\n",
       "    <tr>\n",
       "      <th>75%</th>\n",
       "      <td>NaN</td>\n",
       "      <td>2012.000000</td>\n",
       "      <td>8.500000</td>\n",
       "      <td>8.000000</td>\n",
       "      <td>4.000000</td>\n",
       "      <td>1.000000</td>\n",
       "      <td>1.000000</td>\n",
       "    </tr>\n",
       "    <tr>\n",
       "      <th>max</th>\n",
       "      <td>NaN</td>\n",
       "      <td>2012.000000</td>\n",
       "      <td>39.000000</td>\n",
       "      <td>30.000000</td>\n",
       "      <td>11.000000</td>\n",
       "      <td>1.000000</td>\n",
       "      <td>1.000000</td>\n",
       "    </tr>\n",
       "  </tbody>\n",
       "</table>\n",
       "</div>"
      ],
      "text/plain": [
       "          State         Year  Rasmussen  SurveyUSA   DiffCount       PropR  \\\n",
       "count       145   145.000000  99.000000  74.000000  145.000000  145.000000   \n",
       "unique       50          NaN        NaN        NaN         NaN         NaN   \n",
       "top     Arizona          NaN        NaN        NaN         NaN         NaN   \n",
       "freq          3          NaN        NaN        NaN         NaN         NaN   \n",
       "mean        NaN  2007.862069   0.040404  -0.824324   -1.268966    0.525943   \n",
       "std         NaN     3.245982  13.426990  14.257282    6.353318    0.466495   \n",
       "min         NaN  2004.000000 -41.000000 -33.000000  -19.000000    0.000000   \n",
       "25%         NaN  2004.000000  -8.000000 -11.750000   -6.000000    0.000000   \n",
       "50%         NaN  2008.000000   1.000000  -2.000000    1.000000    0.625000   \n",
       "75%         NaN  2012.000000   8.500000   8.000000    4.000000    1.000000   \n",
       "max         NaN  2012.000000  39.000000  30.000000   11.000000    1.000000   \n",
       "\n",
       "        Republican  \n",
       "count   145.000000  \n",
       "unique         NaN  \n",
       "top            NaN  \n",
       "freq           NaN  \n",
       "mean      0.510345  \n",
       "std       0.501626  \n",
       "min       0.000000  \n",
       "25%       0.000000  \n",
       "50%       1.000000  \n",
       "75%       1.000000  \n",
       "max       1.000000  "
      ]
     },
     "execution_count": 5,
     "metadata": {},
     "output_type": "execute_result"
    }
   ],
   "source": [
    "df.describe(include='all')"
   ]
  },
  {
   "cell_type": "code",
   "execution_count": 6,
   "metadata": {},
   "outputs": [
    {
     "data": {
      "text/plain": [
       "(145, 7)"
      ]
     },
     "execution_count": 6,
     "metadata": {},
     "output_type": "execute_result"
    }
   ],
   "source": [
    "df.shape"
   ]
  },
  {
   "cell_type": "code",
   "execution_count": 7,
   "metadata": {},
   "outputs": [
    {
     "data": {
      "text/plain": [
       "Index(['State', 'Year', 'Rasmussen', 'SurveyUSA', 'DiffCount', 'PropR',\n",
       "       'Republican'],\n",
       "      dtype='object')"
      ]
     },
     "execution_count": 7,
     "metadata": {},
     "output_type": "execute_result"
    }
   ],
   "source": [
    "df.columns"
   ]
  },
  {
   "cell_type": "markdown",
   "metadata": {},
   "source": [
    "### Data Visualization"
   ]
  },
  {
   "cell_type": "code",
   "execution_count": 8,
   "metadata": {},
   "outputs": [
    {
     "data": {
      "image/png": "[encoded data removed]",
      "text/plain": [
       "<Figure size 1440x2880 with 6 Axes>"
      ]
     },
     "metadata": {},
     "output_type": "display_data"
    }
   ],
   "source": [
    "fig = plt.figure(figsize=(20,40))\n",
    "\n",
    "plt.subplot(7,2,1)\n",
    "sns.countplot(df.Year)\n",
    "plt.subplot(7,2,2)\n",
    "sns.distplot(df.Rasmussen)\n",
    "plt.subplot(7,2,3)\n",
    "sns.distplot(df.SurveyUSA)\n",
    "plt.subplot(7,2,4)\n",
    "sns.distplot(df.DiffCount)\n",
    "plt.subplot(7,2,5)\n",
    "sns.distplot(df.PropR)\n",
    "plt.subplot(7,2,6)\n",
    "sns.countplot(df.Republican)\n",
    "# plt.subplot(7,2,7)\n",
    "# sns.countplot()\n",
    "# plt.subplot(7,2,8)\n",
    "# sns.countplot()\n",
    "# plt.subplot(7,2,9)\n",
    "# sns.countplot()\n",
    "# plt.subplot(7,2,10)\n",
    "# sns.countplot()\n",
    "# plt.subplot(7,2,11)\n",
    "# sns.countplot()\n",
    "# plt.subplot(7,2,12)\n",
    "# sns.countplot()\n",
    "# plt.subplot(7,2,13)\n",
    "# sns.countplot()\n",
    "# plt.subplot(7,2,14)\n",
    "# sns.countplot()\n",
    "\n",
    "plt.tight_layout()\n",
    "plt.show()"
   ]
  },
  {
   "cell_type": "code",
   "execution_count": 9,
   "metadata": {},
   "outputs": [
    {
     "data": {
      "text/html": [
       "<div>\n",
       "<style scoped>\n",
       "    .dataframe tbody tr th:only-of-type {\n",
       "        vertical-align: middle;\n",
       "    }\n",
       "\n",
       "    .dataframe tbody tr th {\n",
       "        vertical-align: top;\n",
       "    }\n",
       "\n",
       "    .dataframe thead th {\n",
       "        text-align: right;\n",
       "    }\n",
       "</style>\n",
       "<table border=\"1\" class=\"dataframe\">\n",
       "  <thead>\n",
       "    <tr style=\"text-align: right;\">\n",
       "      <th></th>\n",
       "      <th>Year</th>\n",
       "      <th>Rasmussen</th>\n",
       "      <th>SurveyUSA</th>\n",
       "      <th>DiffCount</th>\n",
       "      <th>PropR</th>\n",
       "      <th>Republican</th>\n",
       "    </tr>\n",
       "  </thead>\n",
       "  <tbody>\n",
       "    <tr>\n",
       "      <th>Year</th>\n",
       "      <td>1.000000</td>\n",
       "      <td>-0.078443</td>\n",
       "      <td>-0.267021</td>\n",
       "      <td>-0.187690</td>\n",
       "      <td>-0.114478</td>\n",
       "      <td>-0.127065</td>\n",
       "    </tr>\n",
       "    <tr>\n",
       "      <th>Rasmussen</th>\n",
       "      <td>-0.078443</td>\n",
       "      <td>1.000000</td>\n",
       "      <td>0.907220</td>\n",
       "      <td>0.524608</td>\n",
       "      <td>0.803574</td>\n",
       "      <td>0.750518</td>\n",
       "    </tr>\n",
       "    <tr>\n",
       "      <th>SurveyUSA</th>\n",
       "      <td>-0.267021</td>\n",
       "      <td>0.907220</td>\n",
       "      <td>1.000000</td>\n",
       "      <td>0.605997</td>\n",
       "      <td>0.860674</td>\n",
       "      <td>0.809764</td>\n",
       "    </tr>\n",
       "    <tr>\n",
       "      <th>DiffCount</th>\n",
       "      <td>-0.187690</td>\n",
       "      <td>0.524608</td>\n",
       "      <td>0.605997</td>\n",
       "      <td>1.000000</td>\n",
       "      <td>0.828518</td>\n",
       "      <td>0.801661</td>\n",
       "    </tr>\n",
       "    <tr>\n",
       "      <th>PropR</th>\n",
       "      <td>-0.114478</td>\n",
       "      <td>0.803574</td>\n",
       "      <td>0.860674</td>\n",
       "      <td>0.828518</td>\n",
       "      <td>1.000000</td>\n",
       "      <td>0.951283</td>\n",
       "    </tr>\n",
       "    <tr>\n",
       "      <th>Republican</th>\n",
       "      <td>-0.127065</td>\n",
       "      <td>0.750518</td>\n",
       "      <td>0.809764</td>\n",
       "      <td>0.801661</td>\n",
       "      <td>0.951283</td>\n",
       "      <td>1.000000</td>\n",
       "    </tr>\n",
       "  </tbody>\n",
       "</table>\n",
       "</div>"
      ],
      "text/plain": [
       "                Year  Rasmussen  SurveyUSA  DiffCount     PropR  Republican\n",
       "Year        1.000000  -0.078443  -0.267021  -0.187690 -0.114478   -0.127065\n",
       "Rasmussen  -0.078443   1.000000   0.907220   0.524608  0.803574    0.750518\n",
       "SurveyUSA  -0.267021   0.907220   1.000000   0.605997  0.860674    0.809764\n",
       "DiffCount  -0.187690   0.524608   0.605997   1.000000  0.828518    0.801661\n",
       "PropR      -0.114478   0.803574   0.860674   0.828518  1.000000    0.951283\n",
       "Republican -0.127065   0.750518   0.809764   0.801661  0.951283    1.000000"
      ]
     },
     "execution_count": 9,
     "metadata": {},
     "output_type": "execute_result"
    }
   ],
   "source": [
    "df.corr()"
   ]
  },
  {
   "cell_type": "code",
   "execution_count": 10,
   "metadata": {},
   "outputs": [
    {
     "data": {
      "image/png": "[encoded data removed]",
      "text/plain": [
       "<Figure size 1152x648 with 2 Axes>"
      ]
     },
     "metadata": {},
     "output_type": "display_data"
    }
   ],
   "source": [
    "plt.figure(figsize=(16,9))\n",
    "sns.heatmap(df.corr(),cmap=\"coolwarm\",annot=True,fmt='.2f',linewidths=2)\n",
    "plt.show()"
   ]
  },
  {
   "cell_type": "code",
   "execution_count": 11,
   "metadata": {},
   "outputs": [
    {
     "data": {
      "image/png": "[encoded data removed]",
      "text/plain": [
       "<Figure size 1080x1080 with 42 Axes>"
      ]
     },
     "metadata": {},
     "output_type": "display_data"
    }
   ],
   "source": [
    "sns.pairplot(df)\n",
    "plt.show()"
   ]
  },
  {
   "cell_type": "markdown",
   "metadata": {},
   "source": [
    "### Data Preprocessing"
   ]
  },
  {
   "cell_type": "markdown",
   "metadata": {},
   "source": [
    "### Treat Missing Values"
   ]
  },
  {
   "cell_type": "code",
   "execution_count": 12,
   "metadata": {},
   "outputs": [
    {
     "data": {
      "text/plain": [
       "State          0\n",
       "Year           0\n",
       "Rasmussen     46\n",
       "SurveyUSA     71\n",
       "DiffCount      0\n",
       "PropR          0\n",
       "Republican     0\n",
       "dtype: int64"
      ]
     },
     "execution_count": 12,
     "metadata": {},
     "output_type": "execute_result"
    }
   ],
   "source": [
    "df.isnull().sum()"
   ]
  },
  {
   "cell_type": "code",
   "execution_count": 13,
   "metadata": {},
   "outputs": [
    {
     "data": {
      "text/plain": [
       "0.04040404040404041"
      ]
     },
     "execution_count": 13,
     "metadata": {},
     "output_type": "execute_result"
    }
   ],
   "source": [
    "df['Rasmussen'].mean()"
   ]
  },
  {
   "cell_type": "code",
   "execution_count": 14,
   "metadata": {},
   "outputs": [
    {
     "data": {
      "text/plain": [
       "-0.8243243243243243"
      ]
     },
     "execution_count": 14,
     "metadata": {},
     "output_type": "execute_result"
    }
   ],
   "source": [
    "df['SurveyUSA'].mean()"
   ]
  },
  {
   "cell_type": "code",
   "execution_count": 15,
   "metadata": {},
   "outputs": [],
   "source": [
    "imputer = mdi.MeanMedianImputer(imputation_method='mean',variables=['Rasmussen','SurveyUSA'])"
   ]
  },
  {
   "cell_type": "code",
   "execution_count": 16,
   "metadata": {},
   "outputs": [
    {
     "data": {
      "text/plain": [
       "MeanMedianImputer(imputation_method='mean',\n",
       "                  variables=['Rasmussen', 'SurveyUSA'])"
      ]
     },
     "execution_count": 16,
     "metadata": {},
     "output_type": "execute_result"
    }
   ],
   "source": [
    "imputer.fit(df)"
   ]
  },
  {
   "cell_type": "code",
   "execution_count": 17,
   "metadata": {},
   "outputs": [],
   "source": [
    "df = imputer.transform(df)"
   ]
  },
  {
   "cell_type": "code",
   "execution_count": 18,
   "metadata": {},
   "outputs": [
    {
     "data": {
      "text/plain": [
       "State         0\n",
       "Year          0\n",
       "Rasmussen     0\n",
       "SurveyUSA     0\n",
       "DiffCount     0\n",
       "PropR         0\n",
       "Republican    0\n",
       "dtype: int64"
      ]
     },
     "execution_count": 18,
     "metadata": {},
     "output_type": "execute_result"
    }
   ],
   "source": [
    "df.isnull().sum()"
   ]
  },
  {
   "cell_type": "markdown",
   "metadata": {},
   "source": [
    "### Treat Duplicate Values"
   ]
  },
  {
   "cell_type": "code",
   "execution_count": 19,
   "metadata": {},
   "outputs": [
    {
     "data": {
      "text/plain": [
       "0"
      ]
     },
     "execution_count": 19,
     "metadata": {},
     "output_type": "execute_result"
    }
   ],
   "source": [
    "df.duplicated(keep='first').sum()"
   ]
  },
  {
   "cell_type": "markdown",
   "metadata": {},
   "source": [
    "### Treat Outliers"
   ]
  },
  {
   "cell_type": "code",
   "execution_count": 20,
   "metadata": {},
   "outputs": [
    {
     "data": {
      "text/plain": [
       "Index(['State', 'Year', 'Rasmussen', 'SurveyUSA', 'DiffCount', 'PropR',\n",
       "       'Republican'],\n",
       "      dtype='object')"
      ]
     },
     "execution_count": 20,
     "metadata": {},
     "output_type": "execute_result"
    }
   ],
   "source": [
    "df.columns"
   ]
  },
  {
   "cell_type": "code",
   "execution_count": 21,
   "metadata": {},
   "outputs": [
    {
     "data": {
      "text/html": [
       "<div>\n",
       "<style scoped>\n",
       "    .dataframe tbody tr th:only-of-type {\n",
       "        vertical-align: middle;\n",
       "    }\n",
       "\n",
       "    .dataframe tbody tr th {\n",
       "        vertical-align: top;\n",
       "    }\n",
       "\n",
       "    .dataframe thead th {\n",
       "        text-align: right;\n",
       "    }\n",
       "</style>\n",
       "<table border=\"1\" class=\"dataframe\">\n",
       "  <thead>\n",
       "    <tr style=\"text-align: right;\">\n",
       "      <th></th>\n",
       "      <th>State</th>\n",
       "      <th>Year</th>\n",
       "      <th>Rasmussen</th>\n",
       "      <th>SurveyUSA</th>\n",
       "      <th>DiffCount</th>\n",
       "      <th>PropR</th>\n",
       "      <th>Republican</th>\n",
       "    </tr>\n",
       "  </thead>\n",
       "  <tbody>\n",
       "    <tr>\n",
       "      <th>0</th>\n",
       "      <td>Alabama</td>\n",
       "      <td>2004</td>\n",
       "      <td>11.000000</td>\n",
       "      <td>18.000000</td>\n",
       "      <td>5</td>\n",
       "      <td>1.000000</td>\n",
       "      <td>1</td>\n",
       "    </tr>\n",
       "    <tr>\n",
       "      <th>1</th>\n",
       "      <td>Alabama</td>\n",
       "      <td>2008</td>\n",
       "      <td>21.000000</td>\n",
       "      <td>25.000000</td>\n",
       "      <td>5</td>\n",
       "      <td>1.000000</td>\n",
       "      <td>1</td>\n",
       "    </tr>\n",
       "    <tr>\n",
       "      <th>2</th>\n",
       "      <td>Alaska</td>\n",
       "      <td>2004</td>\n",
       "      <td>0.040404</td>\n",
       "      <td>-0.824324</td>\n",
       "      <td>1</td>\n",
       "      <td>1.000000</td>\n",
       "      <td>1</td>\n",
       "    </tr>\n",
       "    <tr>\n",
       "      <th>3</th>\n",
       "      <td>Alaska</td>\n",
       "      <td>2008</td>\n",
       "      <td>16.000000</td>\n",
       "      <td>-0.824324</td>\n",
       "      <td>6</td>\n",
       "      <td>1.000000</td>\n",
       "      <td>1</td>\n",
       "    </tr>\n",
       "    <tr>\n",
       "      <th>4</th>\n",
       "      <td>Arizona</td>\n",
       "      <td>2004</td>\n",
       "      <td>5.000000</td>\n",
       "      <td>15.000000</td>\n",
       "      <td>8</td>\n",
       "      <td>1.000000</td>\n",
       "      <td>1</td>\n",
       "    </tr>\n",
       "    <tr>\n",
       "      <th>...</th>\n",
       "      <td>...</td>\n",
       "      <td>...</td>\n",
       "      <td>...</td>\n",
       "      <td>...</td>\n",
       "      <td>...</td>\n",
       "      <td>...</td>\n",
       "      <td>...</td>\n",
       "    </tr>\n",
       "    <tr>\n",
       "      <th>140</th>\n",
       "      <td>Wisconsin</td>\n",
       "      <td>2004</td>\n",
       "      <td>-1.000000</td>\n",
       "      <td>-0.824324</td>\n",
       "      <td>1</td>\n",
       "      <td>0.533333</td>\n",
       "      <td>0</td>\n",
       "    </tr>\n",
       "    <tr>\n",
       "      <th>141</th>\n",
       "      <td>Wisconsin</td>\n",
       "      <td>2008</td>\n",
       "      <td>-7.000000</td>\n",
       "      <td>-16.000000</td>\n",
       "      <td>-12</td>\n",
       "      <td>0.000000</td>\n",
       "      <td>0</td>\n",
       "    </tr>\n",
       "    <tr>\n",
       "      <th>142</th>\n",
       "      <td>Wisconsin</td>\n",
       "      <td>2012</td>\n",
       "      <td>0.000000</td>\n",
       "      <td>-0.824324</td>\n",
       "      <td>-8</td>\n",
       "      <td>0.000000</td>\n",
       "      <td>0</td>\n",
       "    </tr>\n",
       "    <tr>\n",
       "      <th>143</th>\n",
       "      <td>Wyoming</td>\n",
       "      <td>2004</td>\n",
       "      <td>0.040404</td>\n",
       "      <td>-0.824324</td>\n",
       "      <td>1</td>\n",
       "      <td>1.000000</td>\n",
       "      <td>1</td>\n",
       "    </tr>\n",
       "    <tr>\n",
       "      <th>144</th>\n",
       "      <td>Wyoming</td>\n",
       "      <td>2008</td>\n",
       "      <td>19.000000</td>\n",
       "      <td>21.000000</td>\n",
       "      <td>3</td>\n",
       "      <td>1.000000</td>\n",
       "      <td>1</td>\n",
       "    </tr>\n",
       "  </tbody>\n",
       "</table>\n",
       "<p>145 rows × 7 columns</p>\n",
       "</div>"
      ],
      "text/plain": [
       "         State  Year  Rasmussen  SurveyUSA  DiffCount     PropR  Republican\n",
       "0      Alabama  2004  11.000000  18.000000          5  1.000000           1\n",
       "1      Alabama  2008  21.000000  25.000000          5  1.000000           1\n",
       "2       Alaska  2004   0.040404  -0.824324          1  1.000000           1\n",
       "3       Alaska  2008  16.000000  -0.824324          6  1.000000           1\n",
       "4      Arizona  2004   5.000000  15.000000          8  1.000000           1\n",
       "..         ...   ...        ...        ...        ...       ...         ...\n",
       "140  Wisconsin  2004  -1.000000  -0.824324          1  0.533333           0\n",
       "141  Wisconsin  2008  -7.000000 -16.000000        -12  0.000000           0\n",
       "142  Wisconsin  2012   0.000000  -0.824324         -8  0.000000           0\n",
       "143    Wyoming  2004   0.040404  -0.824324          1  1.000000           1\n",
       "144    Wyoming  2008  19.000000  21.000000          3  1.000000           1\n",
       "\n",
       "[145 rows x 7 columns]"
      ]
     },
     "execution_count": 21,
     "metadata": {},
     "output_type": "execute_result"
    }
   ],
   "source": [
    "df"
   ]
  },
  {
   "cell_type": "code",
   "execution_count": 22,
   "metadata": {},
   "outputs": [
    {
     "data": {
      "text/html": [
       "<div>\n",
       "<style scoped>\n",
       "    .dataframe tbody tr th:only-of-type {\n",
       "        vertical-align: middle;\n",
       "    }\n",
       "\n",
       "    .dataframe tbody tr th {\n",
       "        vertical-align: top;\n",
       "    }\n",
       "\n",
       "    .dataframe thead th {\n",
       "        text-align: right;\n",
       "    }\n",
       "</style>\n",
       "<table border=\"1\" class=\"dataframe\">\n",
       "  <thead>\n",
       "    <tr style=\"text-align: right;\">\n",
       "      <th></th>\n",
       "      <th>Year</th>\n",
       "      <th>Rasmussen</th>\n",
       "      <th>SurveyUSA</th>\n",
       "      <th>DiffCount</th>\n",
       "      <th>PropR</th>\n",
       "      <th>Republican</th>\n",
       "    </tr>\n",
       "  </thead>\n",
       "  <tbody>\n",
       "    <tr>\n",
       "      <th>count</th>\n",
       "      <td>145.000000</td>\n",
       "      <td>145.000000</td>\n",
       "      <td>145.000000</td>\n",
       "      <td>145.000000</td>\n",
       "      <td>145.000000</td>\n",
       "      <td>145.000000</td>\n",
       "    </tr>\n",
       "    <tr>\n",
       "      <th>mean</th>\n",
       "      <td>2007.862069</td>\n",
       "      <td>0.040404</td>\n",
       "      <td>-0.824324</td>\n",
       "      <td>-1.268966</td>\n",
       "      <td>0.525943</td>\n",
       "      <td>0.510345</td>\n",
       "    </tr>\n",
       "    <tr>\n",
       "      <th>std</th>\n",
       "      <td>3.245982</td>\n",
       "      <td>11.076702</td>\n",
       "      <td>10.151189</td>\n",
       "      <td>6.353318</td>\n",
       "      <td>0.466495</td>\n",
       "      <td>0.501626</td>\n",
       "    </tr>\n",
       "    <tr>\n",
       "      <th>min</th>\n",
       "      <td>2004.000000</td>\n",
       "      <td>-41.000000</td>\n",
       "      <td>-33.000000</td>\n",
       "      <td>-19.000000</td>\n",
       "      <td>0.000000</td>\n",
       "      <td>0.000000</td>\n",
       "    </tr>\n",
       "    <tr>\n",
       "      <th>25%</th>\n",
       "      <td>2004.000000</td>\n",
       "      <td>-4.000000</td>\n",
       "      <td>-2.000000</td>\n",
       "      <td>-6.000000</td>\n",
       "      <td>0.000000</td>\n",
       "      <td>0.000000</td>\n",
       "    </tr>\n",
       "    <tr>\n",
       "      <th>50%</th>\n",
       "      <td>2008.000000</td>\n",
       "      <td>0.040404</td>\n",
       "      <td>-0.824324</td>\n",
       "      <td>1.000000</td>\n",
       "      <td>0.625000</td>\n",
       "      <td>1.000000</td>\n",
       "    </tr>\n",
       "    <tr>\n",
       "      <th>75%</th>\n",
       "      <td>2012.000000</td>\n",
       "      <td>5.000000</td>\n",
       "      <td>-0.824324</td>\n",
       "      <td>4.000000</td>\n",
       "      <td>1.000000</td>\n",
       "      <td>1.000000</td>\n",
       "    </tr>\n",
       "    <tr>\n",
       "      <th>max</th>\n",
       "      <td>2012.000000</td>\n",
       "      <td>39.000000</td>\n",
       "      <td>30.000000</td>\n",
       "      <td>11.000000</td>\n",
       "      <td>1.000000</td>\n",
       "      <td>1.000000</td>\n",
       "    </tr>\n",
       "  </tbody>\n",
       "</table>\n",
       "</div>"
      ],
      "text/plain": [
       "              Year   Rasmussen   SurveyUSA   DiffCount       PropR  Republican\n",
       "count   145.000000  145.000000  145.000000  145.000000  145.000000  145.000000\n",
       "mean   2007.862069    0.040404   -0.824324   -1.268966    0.525943    0.510345\n",
       "std       3.245982   11.076702   10.151189    6.353318    0.466495    0.501626\n",
       "min    2004.000000  -41.000000  -33.000000  -19.000000    0.000000    0.000000\n",
       "25%    2004.000000   -4.000000   -2.000000   -6.000000    0.000000    0.000000\n",
       "50%    2008.000000    0.040404   -0.824324    1.000000    0.625000    1.000000\n",
       "75%    2012.000000    5.000000   -0.824324    4.000000    1.000000    1.000000\n",
       "max    2012.000000   39.000000   30.000000   11.000000    1.000000    1.000000"
      ]
     },
     "execution_count": 22,
     "metadata": {},
     "output_type": "execute_result"
    }
   ],
   "source": [
    "df.describe()"
   ]
  },
  {
   "cell_type": "code",
   "execution_count": 23,
   "metadata": {},
   "outputs": [],
   "source": [
    "windsorizer = Winsorizer(distribution='skewed',tail='both',fold=1.5,\n",
    "                         variables=['Rasmussen', 'SurveyUSA', 'DiffCount'])"
   ]
  },
  {
   "cell_type": "code",
   "execution_count": 24,
   "metadata": {},
   "outputs": [
    {
     "data": {
      "text/plain": [
       "Winsorizer(distribution='skewed', fold=1.5, tail='both',\n",
       "           variables=['Rasmussen', 'SurveyUSA', 'DiffCount'])"
      ]
     },
     "execution_count": 24,
     "metadata": {},
     "output_type": "execute_result"
    }
   ],
   "source": [
    "windsorizer.fit(df)"
   ]
  },
  {
   "cell_type": "code",
   "execution_count": 25,
   "metadata": {},
   "outputs": [],
   "source": [
    "df2 = windsorizer.transform(df)"
   ]
  },
  {
   "cell_type": "code",
   "execution_count": 26,
   "metadata": {},
   "outputs": [
    {
     "data": {
      "text/html": [
       "<div>\n",
       "<style scoped>\n",
       "    .dataframe tbody tr th:only-of-type {\n",
       "        vertical-align: middle;\n",
       "    }\n",
       "\n",
       "    .dataframe tbody tr th {\n",
       "        vertical-align: top;\n",
       "    }\n",
       "\n",
       "    .dataframe thead th {\n",
       "        text-align: right;\n",
       "    }\n",
       "</style>\n",
       "<table border=\"1\" class=\"dataframe\">\n",
       "  <thead>\n",
       "    <tr style=\"text-align: right;\">\n",
       "      <th></th>\n",
       "      <th>State</th>\n",
       "      <th>Year</th>\n",
       "      <th>Rasmussen</th>\n",
       "      <th>SurveyUSA</th>\n",
       "      <th>DiffCount</th>\n",
       "      <th>PropR</th>\n",
       "      <th>Republican</th>\n",
       "    </tr>\n",
       "  </thead>\n",
       "  <tbody>\n",
       "    <tr>\n",
       "      <th>0</th>\n",
       "      <td>Alabama</td>\n",
       "      <td>2004</td>\n",
       "      <td>11.000000</td>\n",
       "      <td>0.939189</td>\n",
       "      <td>5.0</td>\n",
       "      <td>1.000000</td>\n",
       "      <td>1</td>\n",
       "    </tr>\n",
       "    <tr>\n",
       "      <th>1</th>\n",
       "      <td>Alabama</td>\n",
       "      <td>2008</td>\n",
       "      <td>18.500000</td>\n",
       "      <td>0.939189</td>\n",
       "      <td>5.0</td>\n",
       "      <td>1.000000</td>\n",
       "      <td>1</td>\n",
       "    </tr>\n",
       "    <tr>\n",
       "      <th>2</th>\n",
       "      <td>Alaska</td>\n",
       "      <td>2004</td>\n",
       "      <td>0.040404</td>\n",
       "      <td>-0.824324</td>\n",
       "      <td>1.0</td>\n",
       "      <td>1.000000</td>\n",
       "      <td>1</td>\n",
       "    </tr>\n",
       "    <tr>\n",
       "      <th>3</th>\n",
       "      <td>Alaska</td>\n",
       "      <td>2008</td>\n",
       "      <td>16.000000</td>\n",
       "      <td>-0.824324</td>\n",
       "      <td>6.0</td>\n",
       "      <td>1.000000</td>\n",
       "      <td>1</td>\n",
       "    </tr>\n",
       "    <tr>\n",
       "      <th>4</th>\n",
       "      <td>Arizona</td>\n",
       "      <td>2004</td>\n",
       "      <td>5.000000</td>\n",
       "      <td>0.939189</td>\n",
       "      <td>8.0</td>\n",
       "      <td>1.000000</td>\n",
       "      <td>1</td>\n",
       "    </tr>\n",
       "    <tr>\n",
       "      <th>...</th>\n",
       "      <td>...</td>\n",
       "      <td>...</td>\n",
       "      <td>...</td>\n",
       "      <td>...</td>\n",
       "      <td>...</td>\n",
       "      <td>...</td>\n",
       "      <td>...</td>\n",
       "    </tr>\n",
       "    <tr>\n",
       "      <th>140</th>\n",
       "      <td>Wisconsin</td>\n",
       "      <td>2004</td>\n",
       "      <td>-1.000000</td>\n",
       "      <td>-0.824324</td>\n",
       "      <td>1.0</td>\n",
       "      <td>0.533333</td>\n",
       "      <td>0</td>\n",
       "    </tr>\n",
       "    <tr>\n",
       "      <th>141</th>\n",
       "      <td>Wisconsin</td>\n",
       "      <td>2008</td>\n",
       "      <td>-7.000000</td>\n",
       "      <td>-3.763514</td>\n",
       "      <td>-12.0</td>\n",
       "      <td>0.000000</td>\n",
       "      <td>0</td>\n",
       "    </tr>\n",
       "    <tr>\n",
       "      <th>142</th>\n",
       "      <td>Wisconsin</td>\n",
       "      <td>2012</td>\n",
       "      <td>0.000000</td>\n",
       "      <td>-0.824324</td>\n",
       "      <td>-8.0</td>\n",
       "      <td>0.000000</td>\n",
       "      <td>0</td>\n",
       "    </tr>\n",
       "    <tr>\n",
       "      <th>143</th>\n",
       "      <td>Wyoming</td>\n",
       "      <td>2004</td>\n",
       "      <td>0.040404</td>\n",
       "      <td>-0.824324</td>\n",
       "      <td>1.0</td>\n",
       "      <td>1.000000</td>\n",
       "      <td>1</td>\n",
       "    </tr>\n",
       "    <tr>\n",
       "      <th>144</th>\n",
       "      <td>Wyoming</td>\n",
       "      <td>2008</td>\n",
       "      <td>18.500000</td>\n",
       "      <td>0.939189</td>\n",
       "      <td>3.0</td>\n",
       "      <td>1.000000</td>\n",
       "      <td>1</td>\n",
       "    </tr>\n",
       "  </tbody>\n",
       "</table>\n",
       "<p>145 rows × 7 columns</p>\n",
       "</div>"
      ],
      "text/plain": [
       "         State  Year  Rasmussen  SurveyUSA  DiffCount     PropR  Republican\n",
       "0      Alabama  2004  11.000000   0.939189        5.0  1.000000           1\n",
       "1      Alabama  2008  18.500000   0.939189        5.0  1.000000           1\n",
       "2       Alaska  2004   0.040404  -0.824324        1.0  1.000000           1\n",
       "3       Alaska  2008  16.000000  -0.824324        6.0  1.000000           1\n",
       "4      Arizona  2004   5.000000   0.939189        8.0  1.000000           1\n",
       "..         ...   ...        ...        ...        ...       ...         ...\n",
       "140  Wisconsin  2004  -1.000000  -0.824324        1.0  0.533333           0\n",
       "141  Wisconsin  2008  -7.000000  -3.763514      -12.0  0.000000           0\n",
       "142  Wisconsin  2012   0.000000  -0.824324       -8.0  0.000000           0\n",
       "143    Wyoming  2004   0.040404  -0.824324        1.0  1.000000           1\n",
       "144    Wyoming  2008  18.500000   0.939189        3.0  1.000000           1\n",
       "\n",
       "[145 rows x 7 columns]"
      ]
     },
     "execution_count": 26,
     "metadata": {},
     "output_type": "execute_result"
    }
   ],
   "source": [
    "df2"
   ]
  },
  {
   "cell_type": "code",
   "execution_count": 27,
   "metadata": {},
   "outputs": [
    {
     "data": {
      "text/html": [
       "<div>\n",
       "<style scoped>\n",
       "    .dataframe tbody tr th:only-of-type {\n",
       "        vertical-align: middle;\n",
       "    }\n",
       "\n",
       "    .dataframe tbody tr th {\n",
       "        vertical-align: top;\n",
       "    }\n",
       "\n",
       "    .dataframe thead th {\n",
       "        text-align: right;\n",
       "    }\n",
       "</style>\n",
       "<table border=\"1\" class=\"dataframe\">\n",
       "  <thead>\n",
       "    <tr style=\"text-align: right;\">\n",
       "      <th></th>\n",
       "      <th>Year</th>\n",
       "      <th>Rasmussen</th>\n",
       "      <th>SurveyUSA</th>\n",
       "      <th>DiffCount</th>\n",
       "      <th>PropR</th>\n",
       "      <th>Republican</th>\n",
       "    </tr>\n",
       "  </thead>\n",
       "  <tbody>\n",
       "    <tr>\n",
       "      <th>count</th>\n",
       "      <td>145.000000</td>\n",
       "      <td>145.000000</td>\n",
       "      <td>145.000000</td>\n",
       "      <td>145.000000</td>\n",
       "      <td>145.000000</td>\n",
       "      <td>145.000000</td>\n",
       "    </tr>\n",
       "    <tr>\n",
       "      <th>mean</th>\n",
       "      <td>2007.862069</td>\n",
       "      <td>0.040404</td>\n",
       "      <td>-1.150652</td>\n",
       "      <td>-1.268966</td>\n",
       "      <td>0.525943</td>\n",
       "      <td>0.510345</td>\n",
       "    </tr>\n",
       "    <tr>\n",
       "      <th>std</th>\n",
       "      <td>3.245982</td>\n",
       "      <td>8.775692</td>\n",
       "      <td>1.628434</td>\n",
       "      <td>6.353318</td>\n",
       "      <td>0.466495</td>\n",
       "      <td>0.501626</td>\n",
       "    </tr>\n",
       "    <tr>\n",
       "      <th>min</th>\n",
       "      <td>2004.000000</td>\n",
       "      <td>-17.500000</td>\n",
       "      <td>-3.763514</td>\n",
       "      <td>-19.000000</td>\n",
       "      <td>0.000000</td>\n",
       "      <td>0.000000</td>\n",
       "    </tr>\n",
       "    <tr>\n",
       "      <th>25%</th>\n",
       "      <td>2004.000000</td>\n",
       "      <td>-4.000000</td>\n",
       "      <td>-2.000000</td>\n",
       "      <td>-6.000000</td>\n",
       "      <td>0.000000</td>\n",
       "      <td>0.000000</td>\n",
       "    </tr>\n",
       "    <tr>\n",
       "      <th>50%</th>\n",
       "      <td>2008.000000</td>\n",
       "      <td>0.040404</td>\n",
       "      <td>-0.824324</td>\n",
       "      <td>1.000000</td>\n",
       "      <td>0.625000</td>\n",
       "      <td>1.000000</td>\n",
       "    </tr>\n",
       "    <tr>\n",
       "      <th>75%</th>\n",
       "      <td>2012.000000</td>\n",
       "      <td>5.000000</td>\n",
       "      <td>-0.824324</td>\n",
       "      <td>4.000000</td>\n",
       "      <td>1.000000</td>\n",
       "      <td>1.000000</td>\n",
       "    </tr>\n",
       "    <tr>\n",
       "      <th>max</th>\n",
       "      <td>2012.000000</td>\n",
       "      <td>18.500000</td>\n",
       "      <td>0.939189</td>\n",
       "      <td>11.000000</td>\n",
       "      <td>1.000000</td>\n",
       "      <td>1.000000</td>\n",
       "    </tr>\n",
       "  </tbody>\n",
       "</table>\n",
       "</div>"
      ],
      "text/plain": [
       "              Year   Rasmussen   SurveyUSA   DiffCount       PropR  Republican\n",
       "count   145.000000  145.000000  145.000000  145.000000  145.000000  145.000000\n",
       "mean   2007.862069    0.040404   -1.150652   -1.268966    0.525943    0.510345\n",
       "std       3.245982    8.775692    1.628434    6.353318    0.466495    0.501626\n",
       "min    2004.000000  -17.500000   -3.763514  -19.000000    0.000000    0.000000\n",
       "25%    2004.000000   -4.000000   -2.000000   -6.000000    0.000000    0.000000\n",
       "50%    2008.000000    0.040404   -0.824324    1.000000    0.625000    1.000000\n",
       "75%    2012.000000    5.000000   -0.824324    4.000000    1.000000    1.000000\n",
       "max    2012.000000   18.500000    0.939189   11.000000    1.000000    1.000000"
      ]
     },
     "execution_count": 27,
     "metadata": {},
     "output_type": "execute_result"
    }
   ],
   "source": [
    "df2.describe()"
   ]
  },
  {
   "cell_type": "code",
   "execution_count": 28,
   "metadata": {},
   "outputs": [
    {
     "data": {
      "text/plain": [
       "{'Rasmussen': -17.5, 'SurveyUSA': -3.7635135135135136, 'DiffCount': -21.0}"
      ]
     },
     "execution_count": 28,
     "metadata": {},
     "output_type": "execute_result"
    }
   ],
   "source": [
    "windsorizer.left_tail_caps_"
   ]
  },
  {
   "cell_type": "code",
   "execution_count": 29,
   "metadata": {},
   "outputs": [
    {
     "data": {
      "text/plain": [
       "{'Rasmussen': 18.5, 'SurveyUSA': 0.9391891891891893, 'DiffCount': 19.0}"
      ]
     },
     "execution_count": 29,
     "metadata": {},
     "output_type": "execute_result"
    }
   ],
   "source": [
    "windsorizer.right_tail_caps_"
   ]
  },
  {
   "cell_type": "markdown",
   "metadata": {},
   "source": [
    "### Treat Data Types"
   ]
  },
  {
   "cell_type": "code",
   "execution_count": null,
   "metadata": {},
   "outputs": [],
   "source": []
  },
  {
   "cell_type": "markdown",
   "metadata": {},
   "source": [
    "### Drop unwanted features"
   ]
  },
  {
   "cell_type": "code",
   "execution_count": 30,
   "metadata": {},
   "outputs": [
    {
     "data": {
      "text/plain": [
       "Index(['State', 'Year', 'Rasmussen', 'SurveyUSA', 'DiffCount', 'PropR',\n",
       "       'Republican'],\n",
       "      dtype='object')"
      ]
     },
     "execution_count": 30,
     "metadata": {},
     "output_type": "execute_result"
    }
   ],
   "source": [
    "df2.columns"
   ]
  },
  {
   "cell_type": "code",
   "execution_count": 31,
   "metadata": {},
   "outputs": [],
   "source": [
    "df2.drop(['State', 'Year'],axis=1,inplace=True)"
   ]
  },
  {
   "cell_type": "code",
   "execution_count": 32,
   "metadata": {},
   "outputs": [
    {
     "data": {
      "text/html": [
       "<div>\n",
       "<style scoped>\n",
       "    .dataframe tbody tr th:only-of-type {\n",
       "        vertical-align: middle;\n",
       "    }\n",
       "\n",
       "    .dataframe tbody tr th {\n",
       "        vertical-align: top;\n",
       "    }\n",
       "\n",
       "    .dataframe thead th {\n",
       "        text-align: right;\n",
       "    }\n",
       "</style>\n",
       "<table border=\"1\" class=\"dataframe\">\n",
       "  <thead>\n",
       "    <tr style=\"text-align: right;\">\n",
       "      <th></th>\n",
       "      <th>Rasmussen</th>\n",
       "      <th>SurveyUSA</th>\n",
       "      <th>DiffCount</th>\n",
       "      <th>PropR</th>\n",
       "      <th>Republican</th>\n",
       "    </tr>\n",
       "  </thead>\n",
       "  <tbody>\n",
       "    <tr>\n",
       "      <th>0</th>\n",
       "      <td>11.000000</td>\n",
       "      <td>0.939189</td>\n",
       "      <td>5.0</td>\n",
       "      <td>1.000000</td>\n",
       "      <td>1</td>\n",
       "    </tr>\n",
       "    <tr>\n",
       "      <th>1</th>\n",
       "      <td>18.500000</td>\n",
       "      <td>0.939189</td>\n",
       "      <td>5.0</td>\n",
       "      <td>1.000000</td>\n",
       "      <td>1</td>\n",
       "    </tr>\n",
       "    <tr>\n",
       "      <th>2</th>\n",
       "      <td>0.040404</td>\n",
       "      <td>-0.824324</td>\n",
       "      <td>1.0</td>\n",
       "      <td>1.000000</td>\n",
       "      <td>1</td>\n",
       "    </tr>\n",
       "    <tr>\n",
       "      <th>3</th>\n",
       "      <td>16.000000</td>\n",
       "      <td>-0.824324</td>\n",
       "      <td>6.0</td>\n",
       "      <td>1.000000</td>\n",
       "      <td>1</td>\n",
       "    </tr>\n",
       "    <tr>\n",
       "      <th>4</th>\n",
       "      <td>5.000000</td>\n",
       "      <td>0.939189</td>\n",
       "      <td>8.0</td>\n",
       "      <td>1.000000</td>\n",
       "      <td>1</td>\n",
       "    </tr>\n",
       "    <tr>\n",
       "      <th>...</th>\n",
       "      <td>...</td>\n",
       "      <td>...</td>\n",
       "      <td>...</td>\n",
       "      <td>...</td>\n",
       "      <td>...</td>\n",
       "    </tr>\n",
       "    <tr>\n",
       "      <th>140</th>\n",
       "      <td>-1.000000</td>\n",
       "      <td>-0.824324</td>\n",
       "      <td>1.0</td>\n",
       "      <td>0.533333</td>\n",
       "      <td>0</td>\n",
       "    </tr>\n",
       "    <tr>\n",
       "      <th>141</th>\n",
       "      <td>-7.000000</td>\n",
       "      <td>-3.763514</td>\n",
       "      <td>-12.0</td>\n",
       "      <td>0.000000</td>\n",
       "      <td>0</td>\n",
       "    </tr>\n",
       "    <tr>\n",
       "      <th>142</th>\n",
       "      <td>0.000000</td>\n",
       "      <td>-0.824324</td>\n",
       "      <td>-8.0</td>\n",
       "      <td>0.000000</td>\n",
       "      <td>0</td>\n",
       "    </tr>\n",
       "    <tr>\n",
       "      <th>143</th>\n",
       "      <td>0.040404</td>\n",
       "      <td>-0.824324</td>\n",
       "      <td>1.0</td>\n",
       "      <td>1.000000</td>\n",
       "      <td>1</td>\n",
       "    </tr>\n",
       "    <tr>\n",
       "      <th>144</th>\n",
       "      <td>18.500000</td>\n",
       "      <td>0.939189</td>\n",
       "      <td>3.0</td>\n",
       "      <td>1.000000</td>\n",
       "      <td>1</td>\n",
       "    </tr>\n",
       "  </tbody>\n",
       "</table>\n",
       "<p>145 rows × 5 columns</p>\n",
       "</div>"
      ],
      "text/plain": [
       "     Rasmussen  SurveyUSA  DiffCount     PropR  Republican\n",
       "0    11.000000   0.939189        5.0  1.000000           1\n",
       "1    18.500000   0.939189        5.0  1.000000           1\n",
       "2     0.040404  -0.824324        1.0  1.000000           1\n",
       "3    16.000000  -0.824324        6.0  1.000000           1\n",
       "4     5.000000   0.939189        8.0  1.000000           1\n",
       "..         ...        ...        ...       ...         ...\n",
       "140  -1.000000  -0.824324        1.0  0.533333           0\n",
       "141  -7.000000  -3.763514      -12.0  0.000000           0\n",
       "142   0.000000  -0.824324       -8.0  0.000000           0\n",
       "143   0.040404  -0.824324        1.0  1.000000           1\n",
       "144  18.500000   0.939189        3.0  1.000000           1\n",
       "\n",
       "[145 rows x 5 columns]"
      ]
     },
     "execution_count": 32,
     "metadata": {},
     "output_type": "execute_result"
    }
   ],
   "source": [
    "df2"
   ]
  },
  {
   "cell_type": "markdown",
   "metadata": {},
   "source": [
    "### Train Test Split"
   ]
  },
  {
   "cell_type": "code",
   "execution_count": 33,
   "metadata": {},
   "outputs": [],
   "source": [
    "X = df2.iloc[:,0:4]\n",
    "y = df2.iloc[:,4]"
   ]
  },
  {
   "cell_type": "code",
   "execution_count": 34,
   "metadata": {},
   "outputs": [
    {
     "data": {
      "text/plain": [
       "(array([[ 11.        ,   0.93918919,   5.        ,   1.        ],\n",
       "        [ 18.5       ,   0.93918919,   5.        ,   1.        ],\n",
       "        [  0.04040404,  -0.82432432,   1.        ,   1.        ],\n",
       "        [ 16.        ,  -0.82432432,   6.        ,   1.        ],\n",
       "        [  5.        ,   0.93918919,   8.        ,   1.        ],\n",
       "        [  5.        ,  -0.82432432,   9.        ,   1.        ],\n",
       "        [  8.        ,  -0.82432432,   4.        ,   0.83333333],\n",
       "        [  7.        ,   0.93918919,   8.        ,   1.        ],\n",
       "        [ 10.        ,  -0.82432432,   5.        ,   1.        ],\n",
       "        [  0.04040404,  -0.82432432,   2.        ,   1.        ],\n",
       "        [-11.        ,  -3.76351351,  -8.        ,   0.        ],\n",
       "        [-17.5       ,  -3.76351351,  -5.        ,   0.        ],\n",
       "        [  0.04040404,  -3.76351351,  -6.        ,   0.        ],\n",
       "        [  5.        ,   0.93918919,   9.        ,   1.        ],\n",
       "        [ -4.        ,  -0.82432432, -15.        ,   0.        ],\n",
       "        [  3.        ,  -2.        ,  -5.        ,   0.30769231],\n",
       "        [  0.04040404,  -0.82432432,  -3.        ,   0.        ],\n",
       "        [-17.        ,  -3.76351351,  -4.        ,   0.        ],\n",
       "        [ -7.        ,  -3.76351351,  -8.        ,   0.        ],\n",
       "        [  0.04040404,  -0.82432432,  -2.        ,   0.        ],\n",
       "        [-15.        ,  -3.76351351,  -4.        ,   0.        ],\n",
       "        [  3.        ,   0.93918919,   0.        ,   0.5       ],\n",
       "        [  1.        ,  -3.        , -13.        ,   0.15789474],\n",
       "        [  2.        ,   0.        ,   6.        ,   0.66666667],\n",
       "        [  0.04040404,   0.93918919,   4.        ,   1.        ],\n",
       "        [  5.        ,   0.93918919,   9.        ,   1.        ],\n",
       "        [  0.04040404,   0.93918919,   4.        ,   1.        ],\n",
       "        [  0.04040404,  -0.82432432,   2.        ,   0.75      ],\n",
       "        [-17.5       ,  -0.82432432,  -1.        ,   0.        ],\n",
       "        [  0.04040404,  -0.82432432,  -2.        ,   0.        ],\n",
       "        [  0.04040404,  -0.82432432,   1.        ,   1.        ],\n",
       "        [ 18.5       ,  -0.82432432,   1.        ,   1.        ],\n",
       "        [  0.04040404,  -0.82432432,   1.        ,   1.        ],\n",
       "        [-11.        ,  -3.76351351,  -5.        ,   0.        ],\n",
       "        [-17.5       ,  -0.82432432,  -5.        ,   0.        ],\n",
       "        [  0.04040404,  -0.82432432,  -5.        ,   0.        ],\n",
       "        [  0.04040404,   0.93918919,   3.        ,   1.        ],\n",
       "        [  3.        ,   0.        ,   2.        ,   0.625     ],\n",
       "        [  9.        ,  -0.82432432,   3.        ,   1.        ],\n",
       "        [  2.        ,  -3.        ,   5.        ,   0.66666667],\n",
       "        [ -8.        ,  -3.76351351,  -8.        ,   0.        ],\n",
       "        [  1.        ,  -0.82432432,  -2.        ,   0.4       ],\n",
       "        [  0.04040404,   0.93918919,   3.        ,   1.        ],\n",
       "        [ 13.        ,   0.93918919,   2.        ,   1.        ],\n",
       "        [  0.04040404,   0.93918919,   1.        ,   1.        ],\n",
       "        [  0.04040404,   0.93918919,   3.        ,   1.        ],\n",
       "        [ 12.        ,   0.93918919,   5.        ,   1.        ],\n",
       "        [  0.04040404,   0.93918919,   1.        ,   1.        ],\n",
       "        [  0.04040404,  -0.82432432,   5.        ,   1.        ],\n",
       "        [ 16.        ,  -0.82432432,   2.        ,   1.        ],\n",
       "        [  0.04040404,  -0.82432432,   2.        ,   1.        ],\n",
       "        [  0.04040404,  -3.76351351,  -6.        ,   0.        ],\n",
       "        [-13.        ,  -3.76351351,  -6.        ,   0.        ],\n",
       "        [-12.        ,  -0.82432432,  -6.        ,   0.        ],\n",
       "        [ -3.        ,  -3.76351351,  -6.        ,   0.        ],\n",
       "        [-17.5       ,  -0.82432432,  -1.        ,   0.        ],\n",
       "        [  0.04040404,  -0.82432432,  -4.        ,   0.        ],\n",
       "        [  0.04040404,  -0.82432432,  -2.        ,   0.        ],\n",
       "        [-17.5       ,  -3.76351351,  -4.        ,   0.        ],\n",
       "        [-17.5       ,  -0.82432432,  -8.        ,   0.        ],\n",
       "        [  0.04040404,  -0.82432432,  -2.        ,   0.        ],\n",
       "        [-10.        ,  -0.82432432, -11.        ,   0.13333333],\n",
       "        [ -5.        ,  -0.82432432, -10.        ,   0.08333333],\n",
       "        [ -1.        ,  -0.82432432,  -7.        ,   0.18181818],\n",
       "        [-12.        ,  -3.        , -14.        ,   0.        ],\n",
       "        [ -5.        ,  -3.76351351,  -5.        ,   0.14285714],\n",
       "        [  0.04040404,  -0.82432432,   1.        ,   1.        ],\n",
       "        [  8.        ,  -0.82432432,   4.        ,   1.        ],\n",
       "        [  0.04040404,  -0.82432432,   1.        ,   1.        ],\n",
       "        [  5.        ,   0.93918919,   8.        ,   1.        ],\n",
       "        [  0.        ,   0.        ,   4.        ,   0.83333333],\n",
       "        [ 11.        ,   0.93918919,   8.        ,   1.        ],\n",
       "        [  0.04040404,  -0.82432432,   3.        ,   1.        ],\n",
       "        [  4.        ,  -0.82432432,   4.        ,   0.75      ],\n",
       "        [ 10.        ,  -0.82432432,   5.        ,   1.        ],\n",
       "        [  0.04040404,  -0.82432432,   2.        ,   1.        ],\n",
       "        [ 18.5       ,  -0.82432432,   1.        ,   1.        ],\n",
       "        [  0.04040404,  -0.82432432,   2.        ,   1.        ],\n",
       "        [  2.        ,   0.93918919,   9.        ,   1.        ],\n",
       "        [ -4.        ,  -0.82432432,  -9.        ,   0.09090909],\n",
       "        [ -2.        ,  -3.76351351, -10.        ,   0.        ],\n",
       "        [ -2.        ,  -0.82432432,  -5.        ,   0.22222222],\n",
       "        [ -7.        ,  -3.76351351, -14.        ,   0.        ],\n",
       "        [ -2.        ,  -0.82432432,  -8.        ,   0.        ],\n",
       "        [-12.        ,  -3.76351351,  -8.        ,   0.        ],\n",
       "        [-15.        ,  -3.76351351,  -9.        ,   0.        ],\n",
       "        [  0.04040404,  -3.76351351,  -9.        ,   0.        ],\n",
       "        [  4.        ,  -0.82432432,   2.        ,   0.625     ],\n",
       "        [-10.        ,  -3.76351351,  -6.        ,   0.        ],\n",
       "        [-11.        ,  -0.82432432,  -5.        ,   0.        ],\n",
       "        [ -5.        ,  -3.76351351,  -6.        ,   0.        ],\n",
       "        [-17.5       ,  -3.76351351,  -5.        ,   0.        ],\n",
       "        [  0.04040404,  -3.76351351,  -5.        ,   0.        ],\n",
       "        [ 12.        ,   0.93918919,   7.        ,   1.        ],\n",
       "        [  1.        ,   0.93918919,  -5.        ,   0.33333333],\n",
       "        [  6.        ,   0.93918919,   3.        ,   0.66666667],\n",
       "        [  0.04040404,  -0.82432432,   2.        ,   1.        ],\n",
       "        [ 14.        ,  -0.82432432,   0.        ,   0.5       ],\n",
       "        [ 14.        ,  -0.82432432,   4.        ,   1.        ],\n",
       "        [  4.        ,   0.93918919,   3.        ,   0.6       ],\n",
       "        [  0.        ,  -2.        , -16.        ,   0.1       ],\n",
       "        [  0.        ,  -3.76351351, -16.        ,   0.        ],\n",
       "        [ 18.5       ,   0.93918919,   4.        ,   1.        ],\n",
       "        [ 18.5       ,   0.93918919,   2.        ,   1.        ],\n",
       "        [  0.04040404,  -0.82432432,   1.        ,   1.        ],\n",
       "        [ -8.        ,  -3.        ,  -8.        ,   0.1       ],\n",
       "        [-12.        ,  -3.76351351,  -9.        ,   0.        ],\n",
       "        [  0.04040404,  -3.76351351,  -4.        ,   0.        ],\n",
       "        [ -2.        ,  -1.        , -12.        ,   0.125     ],\n",
       "        [ -6.        ,  -3.76351351, -19.        ,   0.        ],\n",
       "        [ -5.        ,   0.        , -13.        ,   0.        ],\n",
       "        [  0.04040404,  -3.76351351,  -2.        ,   0.        ],\n",
       "        [-17.5       ,  -0.82432432,  -1.        ,   0.        ],\n",
       "        [  0.04040404,  -0.82432432,  -2.        ,   0.        ],\n",
       "        [  0.04040404,   0.93918919,   4.        ,   1.        ],\n",
       "        [ 11.        ,   0.93918919,   5.        ,   1.        ],\n",
       "        [  0.04040404,  -0.82432432,   1.        ,   1.        ],\n",
       "        [ 10.        ,  -0.82432432,   4.        ,   1.        ],\n",
       "        [  9.        ,  -0.82432432,   4.        ,   1.        ],\n",
       "        [  0.04040404,  -0.82432432,   1.        ,   1.        ],\n",
       "        [  6.        ,   0.93918919,   7.        ,   1.        ],\n",
       "        [ 12.        ,  -0.82432432,   5.        ,   1.        ],\n",
       "        [  0.04040404,  -0.82432432,   1.        ,   1.        ],\n",
       "        [  0.04040404,   0.93918919,   2.        ,   1.        ],\n",
       "        [ 10.        ,  -0.82432432,   5.        ,   1.        ],\n",
       "        [  0.04040404,  -0.82432432,   4.        ,   1.        ],\n",
       "        [  0.04040404,  -0.82432432,   3.        ,   1.        ],\n",
       "        [ 18.5       ,  -0.82432432,   3.        ,   1.        ],\n",
       "        [  0.04040404,  -0.82432432,   1.        ,   1.        ],\n",
       "        [  0.04040404,  -0.82432432,  -2.        ,   0.        ],\n",
       "        [-17.5       ,  -0.82432432,  -2.        ,   0.        ],\n",
       "        [  6.        ,   0.93918919,   5.        ,   1.        ],\n",
       "        [ -4.        ,  -3.76351351, -18.        ,   0.        ],\n",
       "        [  2.        ,  -0.82432432,  -4.        ,   0.33333333],\n",
       "        [ -8.        ,  -3.76351351, -10.        ,   0.        ],\n",
       "        [-11.        ,  -3.76351351,  -6.        ,   0.        ],\n",
       "        [-13.        ,  -3.76351351,  -8.        ,   0.        ],\n",
       "        [  6.        ,  -0.82432432,   6.        ,   1.        ],\n",
       "        [  9.        ,  -0.82432432,  11.        ,   1.        ],\n",
       "        [  0.04040404,  -0.82432432,   1.        ,   1.        ],\n",
       "        [ -1.        ,  -0.82432432,   1.        ,   0.53333333],\n",
       "        [ -7.        ,  -3.76351351, -12.        ,   0.        ],\n",
       "        [  0.        ,  -0.82432432,  -8.        ,   0.        ],\n",
       "        [  0.04040404,  -0.82432432,   1.        ,   1.        ],\n",
       "        [ 18.5       ,   0.93918919,   3.        ,   1.        ]]),\n",
       " array([1, 1, 1, 1, 1, 1, 1, 1, 1, 1, 0, 0, 0, 1, 0, 0, 0, 0, 0, 0, 0, 1,\n",
       "        0, 0, 1, 1, 1, 0, 0, 0, 1, 1, 1, 0, 0, 0, 1, 0, 1, 1, 0, 0, 1, 1,\n",
       "        1, 1, 1, 1, 1, 1, 1, 0, 0, 0, 0, 0, 0, 0, 0, 0, 0, 0, 0, 0, 0, 0,\n",
       "        1, 1, 1, 1, 1, 1, 1, 1, 1, 1, 1, 1, 1, 0, 0, 0, 0, 0, 0, 0, 0, 1,\n",
       "        0, 0, 0, 0, 0, 1, 0, 1, 1, 1, 1, 1, 0, 0, 1, 1, 1, 0, 0, 0, 0, 0,\n",
       "        0, 0, 0, 0, 1, 1, 1, 1, 1, 1, 1, 1, 1, 1, 1, 1, 1, 1, 1, 0, 0, 1,\n",
       "        0, 0, 0, 0, 0, 1, 1, 1, 0, 0, 0, 1, 1], dtype=int64))"
      ]
     },
     "execution_count": 34,
     "metadata": {},
     "output_type": "execute_result"
    }
   ],
   "source": [
    "X.values, y.values"
   ]
  },
  {
   "cell_type": "code",
   "execution_count": 35,
   "metadata": {},
   "outputs": [],
   "source": [
    "X_train, X_test, y_train, y_test = train_test_split(X, y, test_size=0.2, random_state=0)"
   ]
  },
  {
   "cell_type": "code",
   "execution_count": 36,
   "metadata": {},
   "outputs": [
    {
     "data": {
      "text/plain": [
       "((116, 4), (29, 4), (116,), (29,))"
      ]
     },
     "execution_count": 36,
     "metadata": {},
     "output_type": "execute_result"
    }
   ],
   "source": [
    "X_train.shape, X_test.shape, y_train.shape, y_test.shape"
   ]
  },
  {
   "cell_type": "markdown",
   "metadata": {},
   "source": [
    "### Feature Scaling"
   ]
  },
  {
   "cell_type": "code",
   "execution_count": 37,
   "metadata": {},
   "outputs": [
    {
     "data": {
      "text/html": [
       "<div>\n",
       "<style scoped>\n",
       "    .dataframe tbody tr th:only-of-type {\n",
       "        vertical-align: middle;\n",
       "    }\n",
       "\n",
       "    .dataframe tbody tr th {\n",
       "        vertical-align: top;\n",
       "    }\n",
       "\n",
       "    .dataframe thead th {\n",
       "        text-align: right;\n",
       "    }\n",
       "</style>\n",
       "<table border=\"1\" class=\"dataframe\">\n",
       "  <thead>\n",
       "    <tr style=\"text-align: right;\">\n",
       "      <th></th>\n",
       "      <th>Rasmussen</th>\n",
       "      <th>SurveyUSA</th>\n",
       "      <th>DiffCount</th>\n",
       "      <th>PropR</th>\n",
       "    </tr>\n",
       "  </thead>\n",
       "  <tbody>\n",
       "    <tr>\n",
       "      <th>104</th>\n",
       "      <td>0.040404</td>\n",
       "      <td>-0.824324</td>\n",
       "      <td>1.0</td>\n",
       "      <td>1.0</td>\n",
       "    </tr>\n",
       "    <tr>\n",
       "      <th>116</th>\n",
       "      <td>0.040404</td>\n",
       "      <td>-0.824324</td>\n",
       "      <td>1.0</td>\n",
       "      <td>1.0</td>\n",
       "    </tr>\n",
       "    <tr>\n",
       "      <th>18</th>\n",
       "      <td>-7.000000</td>\n",
       "      <td>-3.763514</td>\n",
       "      <td>-8.0</td>\n",
       "      <td>0.0</td>\n",
       "    </tr>\n",
       "    <tr>\n",
       "      <th>43</th>\n",
       "      <td>13.000000</td>\n",
       "      <td>0.939189</td>\n",
       "      <td>2.0</td>\n",
       "      <td>1.0</td>\n",
       "    </tr>\n",
       "    <tr>\n",
       "      <th>56</th>\n",
       "      <td>0.040404</td>\n",
       "      <td>-0.824324</td>\n",
       "      <td>-4.0</td>\n",
       "      <td>0.0</td>\n",
       "    </tr>\n",
       "    <tr>\n",
       "      <th>...</th>\n",
       "      <td>...</td>\n",
       "      <td>...</td>\n",
       "      <td>...</td>\n",
       "      <td>...</td>\n",
       "    </tr>\n",
       "    <tr>\n",
       "      <th>9</th>\n",
       "      <td>0.040404</td>\n",
       "      <td>-0.824324</td>\n",
       "      <td>2.0</td>\n",
       "      <td>1.0</td>\n",
       "    </tr>\n",
       "    <tr>\n",
       "      <th>103</th>\n",
       "      <td>18.500000</td>\n",
       "      <td>0.939189</td>\n",
       "      <td>2.0</td>\n",
       "      <td>1.0</td>\n",
       "    </tr>\n",
       "    <tr>\n",
       "      <th>67</th>\n",
       "      <td>8.000000</td>\n",
       "      <td>-0.824324</td>\n",
       "      <td>4.0</td>\n",
       "      <td>1.0</td>\n",
       "    </tr>\n",
       "    <tr>\n",
       "      <th>117</th>\n",
       "      <td>10.000000</td>\n",
       "      <td>-0.824324</td>\n",
       "      <td>4.0</td>\n",
       "      <td>1.0</td>\n",
       "    </tr>\n",
       "    <tr>\n",
       "      <th>47</th>\n",
       "      <td>0.040404</td>\n",
       "      <td>0.939189</td>\n",
       "      <td>1.0</td>\n",
       "      <td>1.0</td>\n",
       "    </tr>\n",
       "  </tbody>\n",
       "</table>\n",
       "<p>116 rows × 4 columns</p>\n",
       "</div>"
      ],
      "text/plain": [
       "     Rasmussen  SurveyUSA  DiffCount  PropR\n",
       "104   0.040404  -0.824324        1.0    1.0\n",
       "116   0.040404  -0.824324        1.0    1.0\n",
       "18   -7.000000  -3.763514       -8.0    0.0\n",
       "43   13.000000   0.939189        2.0    1.0\n",
       "56    0.040404  -0.824324       -4.0    0.0\n",
       "..         ...        ...        ...    ...\n",
       "9     0.040404  -0.824324        2.0    1.0\n",
       "103  18.500000   0.939189        2.0    1.0\n",
       "67    8.000000  -0.824324        4.0    1.0\n",
       "117  10.000000  -0.824324        4.0    1.0\n",
       "47    0.040404   0.939189        1.0    1.0\n",
       "\n",
       "[116 rows x 4 columns]"
      ]
     },
     "execution_count": 37,
     "metadata": {},
     "output_type": "execute_result"
    }
   ],
   "source": [
    "X_train"
   ]
  },
  {
   "cell_type": "code",
   "execution_count": 38,
   "metadata": {},
   "outputs": [],
   "source": [
    "scaler = StandardScaler()"
   ]
  },
  {
   "cell_type": "code",
   "execution_count": 39,
   "metadata": {},
   "outputs": [],
   "source": [
    "X_train_scaled = scaler.fit_transform(X_train)"
   ]
  },
  {
   "cell_type": "code",
   "execution_count": 40,
   "metadata": {},
   "outputs": [],
   "source": [
    "X_test_scaled = scaler.transform(X_test)"
   ]
  },
  {
   "cell_type": "code",
   "execution_count": 41,
   "metadata": {},
   "outputs": [
    {
     "data": {
      "text/plain": [
       "array([[ 0.7887477 ,  1.26933866,  1.45862139,  1.01087516],\n",
       "       [ 0.02163865,  1.26933866,  0.82962481,  1.01087516],\n",
       "       [ 0.02163865,  0.19508089,  0.51512651,  0.4740077 ],\n",
       "       [ 0.02163865,  0.19508089,  0.35787737,  1.01087516],\n",
       "       [ 0.45807805,  0.19508089,  0.82962481,  0.4740077 ],\n",
       "       [ 1.56031021,  0.19508089,  0.82962481,  1.01087516],\n",
       "       [-0.53393089,  0.19508089, -1.37186324, -0.95763885],\n",
       "       [ 0.1274084 , -1.1302486 , -1.84361068, -0.79752049],\n",
       "       [ 0.02163865, -1.59534871, -0.11387007, -1.13659467],\n",
       "       [ 0.02163865,  1.26933866,  0.82962481,  1.01087516],\n",
       "       [-0.86460054, -1.59534871, -1.05736495, -1.13659467],\n",
       "       [ 0.02163865,  1.26933866,  0.35787737,  1.01087516],\n",
       "       [ 0.02163865,  0.19508089, -0.11387007, -1.13659467],\n",
       "       [ 0.02163865,  0.19508089, -0.11387007, -1.13659467],\n",
       "       [-1.41571662, -1.59534871, -1.05736495, -1.13659467],\n",
       "       [ 0.34785483,  0.69722437,  0.51512651,  0.20557397],\n",
       "       [ 0.02163865,  0.19508089, -0.27111922, -1.13659467],\n",
       "       [ 2.05631468,  0.19508089,  0.67237566,  1.01087516],\n",
       "       [ 1.56031021,  0.19508089,  0.20062822, -0.06285975],\n",
       "       [ 1.11941734,  0.19508089,  0.98687395,  1.01087516],\n",
       "       [ 0.23763162,  1.26933866,  1.61587054,  1.01087516],\n",
       "       [ 0.02163865,  0.19508089,  0.35787737,  1.01087516],\n",
       "       [-0.42370768, -1.59534871, -2.62985642, -1.13659467],\n",
       "       [-0.20326125,  0.19508089, -1.05736495, -1.13659467],\n",
       "       [-0.53393089, -1.59534871, -0.74286666, -1.13659467],\n",
       "       [-1.19527019, -1.59534871, -0.58561751, -1.13659467],\n",
       "       [ 0.02163865,  0.19508089,  0.51512651,  1.01087516],\n",
       "       [-1.19527019,  0.19508089, -0.58561751, -1.13659467],\n",
       "       [ 1.00919413,  0.19508089,  0.82962481,  1.01087516]])"
      ]
     },
     "execution_count": 41,
     "metadata": {},
     "output_type": "execute_result"
    }
   ],
   "source": [
    "X_test_scaled"
   ]
  },
  {
   "cell_type": "markdown",
   "metadata": {},
   "source": [
    "### Create and save processed dataset"
   ]
  },
  {
   "cell_type": "code",
   "execution_count": 42,
   "metadata": {},
   "outputs": [],
   "source": [
    "#df2.to_csv(\"election.csv\",index=False)"
   ]
  },
  {
   "cell_type": "markdown",
   "metadata": {},
   "source": [
    "### Model Training"
   ]
  },
  {
   "cell_type": "markdown",
   "metadata": {},
   "source": [
    "### Using XGBoost"
   ]
  },
  {
   "cell_type": "code",
   "execution_count": 43,
   "metadata": {},
   "outputs": [],
   "source": [
    "xgbmodel = XGBClassifier(random_state=0, n_estimators=100, objective='binary:logistic')"
   ]
  },
  {
   "cell_type": "code",
   "execution_count": 44,
   "metadata": {},
   "outputs": [
    {
     "name": "stdout",
     "output_type": "stream",
     "text": [
      "[0]\tvalidation_0-error:0.068966\n",
      "Will train until validation_0-error hasn't improved in 20 rounds.\n",
      "[1]\tvalidation_0-error:0.103448\n",
      "[2]\tvalidation_0-error:0.103448\n",
      "[3]\tvalidation_0-error:0.103448\n",
      "[4]\tvalidation_0-error:0.068966\n",
      "[5]\tvalidation_0-error:0.103448\n",
      "[6]\tvalidation_0-error:0.068966\n",
      "[7]\tvalidation_0-error:0.068966\n",
      "[8]\tvalidation_0-error:0.068966\n",
      "[9]\tvalidation_0-error:0.103448\n",
      "[10]\tvalidation_0-error:0.068966\n",
      "[11]\tvalidation_0-error:0.068966\n",
      "[12]\tvalidation_0-error:0.068966\n",
      "[13]\tvalidation_0-error:0.068966\n",
      "[14]\tvalidation_0-error:0.068966\n",
      "[15]\tvalidation_0-error:0.068966\n",
      "[16]\tvalidation_0-error:0.068966\n",
      "[17]\tvalidation_0-error:0.068966\n",
      "[18]\tvalidation_0-error:0.068966\n",
      "[19]\tvalidation_0-error:0.068966\n",
      "[20]\tvalidation_0-error:0.068966\n",
      "Stopping. Best iteration:\n",
      "[0]\tvalidation_0-error:0.068966\n",
      "\n"
     ]
    },
    {
     "data": {
      "text/plain": [
       "XGBClassifier(base_score=0.5, booster='gbtree', colsample_bylevel=1,\n",
       "              colsample_bynode=1, colsample_bytree=1, gamma=0,\n",
       "              learning_rate=0.1, max_delta_step=0, max_depth=3,\n",
       "              min_child_weight=1, missing=None, n_estimators=100, n_jobs=1,\n",
       "              nthread=None, objective='binary:logistic', random_state=0,\n",
       "              reg_alpha=0, reg_lambda=1, scale_pos_weight=1, seed=None,\n",
       "              silent=None, subsample=1, verbosity=1)"
      ]
     },
     "execution_count": 44,
     "metadata": {},
     "output_type": "execute_result"
    }
   ],
   "source": [
    "xgbmodel.fit(X_train_scaled,y_train,eval_set=[(X_test_scaled,y_test)],eval_metric='error',early_stopping_rounds=20)"
   ]
  },
  {
   "cell_type": "code",
   "execution_count": 45,
   "metadata": {},
   "outputs": [],
   "source": [
    "y_pred = xgbmodel.predict(X_test_scaled)"
   ]
  },
  {
   "cell_type": "code",
   "execution_count": 46,
   "metadata": {},
   "outputs": [
    {
     "data": {
      "text/plain": [
       "array([1, 1, 1, 1, 1, 1, 0, 0, 0, 1, 0, 1, 0, 0, 0, 1, 0, 1, 1, 1, 1, 1,\n",
       "       0, 0, 0, 0, 1, 0, 1], dtype=int64)"
      ]
     },
     "execution_count": 46,
     "metadata": {},
     "output_type": "execute_result"
    }
   ],
   "source": [
    "y_pred"
   ]
  },
  {
   "cell_type": "markdown",
   "metadata": {},
   "source": [
    "### Model Evaluation"
   ]
  },
  {
   "cell_type": "code",
   "execution_count": 47,
   "metadata": {},
   "outputs": [
    {
     "data": {
      "image/png": "[encoded data removed]",
      "text/plain": [
       "<Figure size 360x360 with 2 Axes>"
      ]
     },
     "metadata": {},
     "output_type": "display_data"
    }
   ],
   "source": [
    "fig , ax = plt.subplots(figsize=(5,5))\n",
    "plot_confusion_matrix(xgbmodel,X_test_scaled,y_test,values_format='.4g',ax=ax)\n",
    "plt.show()"
   ]
  },
  {
   "cell_type": "code",
   "execution_count": 48,
   "metadata": {},
   "outputs": [
    {
     "name": "stdout",
     "output_type": "stream",
     "text": [
      "              precision    recall  f1-score   support\n",
      "\n",
      "           0       1.00      0.87      0.93        15\n",
      "           1       0.88      1.00      0.93        14\n",
      "\n",
      "    accuracy                           0.93        29\n",
      "   macro avg       0.94      0.93      0.93        29\n",
      "weighted avg       0.94      0.93      0.93        29\n",
      "\n"
     ]
    }
   ],
   "source": [
    "print(classification_report(y_test,y_pred))"
   ]
  },
  {
   "cell_type": "code",
   "execution_count": 49,
   "metadata": {},
   "outputs": [
    {
     "data": {
      "image/png": "[encoded data removed]",
      "text/plain": [
       "<Figure size 432x288 with 1 Axes>"
      ]
     },
     "metadata": {},
     "output_type": "display_data"
    }
   ],
   "source": [
    "plot_roc_curve(xgbmodel,X_test_scaled,y_test)\n",
    "plt.show()"
   ]
  },
  {
   "cell_type": "markdown",
   "metadata": {},
   "source": [
    "### Available importance_types = [‘weight’, ‘gain’, ‘cover’, ‘total_gain’, ‘total_cover’]"
   ]
  },
  {
   "cell_type": "code",
   "execution_count": 50,
   "metadata": {},
   "outputs": [
    {
     "data": {
      "text/plain": [
       "Index(['Rasmussen', 'SurveyUSA', 'DiffCount', 'PropR'], dtype='object')"
      ]
     },
     "execution_count": 50,
     "metadata": {},
     "output_type": "execute_result"
    }
   ],
   "source": [
    "X.columns"
   ]
  },
  {
   "cell_type": "code",
   "execution_count": 51,
   "metadata": {},
   "outputs": [],
   "source": [
    "xgbmodel.get_booster().feature_names = ['Rasmussen', 'SurveyUSA', 'DiffCount', 'PropR']"
   ]
  },
  {
   "cell_type": "code",
   "execution_count": 52,
   "metadata": {},
   "outputs": [
    {
     "data": {
      "image/png": "[encoded data removed]",
      "text/plain": [
       "<Figure size 1440x720 with 1 Axes>"
      ]
     },
     "metadata": {},
     "output_type": "display_data"
    }
   ],
   "source": [
    "fig, ax = plt.subplots(figsize=(20,10))\n",
    "xgb.plot_importance(xgbmodel.get_booster(),ax=ax)\n",
    "plt.show()"
   ]
  },
  {
   "cell_type": "code",
   "execution_count": 53,
   "metadata": {},
   "outputs": [
    {
     "data": {
      "image/svg+xml": [
       "<?xml version=\"1.0\" encoding=\"UTF-8\" standalone=\"no\"?>\r\n",
       "<!DOCTYPE svg PUBLIC \"-//W3C//DTD SVG 1.1//EN\"\r\n",
       " \"http://www.w3.org/Graphics/SVG/1.1/DTD/svg11.dtd\">\r\n",
       "<!-- Generated by graphviz version 2.38.0 (20140413.2041)\r\n",
       " -->\r\n",
       "<!-- Title: %3 Pages: 1 -->\r\n",
       "<svg width=\"417pt\" height=\"218pt\"\r\n",
       " viewBox=\"0.00 0.00 417.29 218.00\" xmlns=\"http://www.w3.org/2000/svg\" xmlns:xlink=\"http://www.w3.org/1999/xlink\">\r\n",
       "<g id=\"graph0\" class=\"graph\" transform=\"scale(1 1) rotate(0) translate(4 214)\">\r\n",
       "<title>%3</title>\r\n",
       "<polygon fill=\"white\" stroke=\"none\" points=\"-4,4 -4,-214 413.287,-214 413.287,4 -4,4\"/>\r\n",
       "<!-- 0 -->\r\n",
       "<g id=\"node1\" class=\"node\"><title>0</title>\r\n",
       "<ellipse fill=\"none\" stroke=\"black\" cx=\"145.993\" cy=\"-192\" rx=\"98.5829\" ry=\"18\"/>\r\n",
       "<text text-anchor=\"middle\" x=\"145.993\" y=\"-188.3\" font-family=\"Times New Roman,serif\" font-size=\"14.00\">DiffCount&lt;0.122003645</text>\r\n",
       "</g>\r\n",
       "<!-- 1 -->\r\n",
       "<g id=\"node2\" class=\"node\"><title>1</title>\r\n",
       "<ellipse fill=\"none\" stroke=\"black\" cx=\"77.9931\" cy=\"-105\" rx=\"77.9862\" ry=\"18\"/>\r\n",
       "<text text-anchor=\"middle\" x=\"77.9931\" y=\"-101.3\" font-family=\"Times New Roman,serif\" font-size=\"14.00\">leaf=&#45;0.111531697</text>\r\n",
       "</g>\r\n",
       "<!-- 0&#45;&gt;1 -->\r\n",
       "<g id=\"edge1\" class=\"edge\"><title>0&#45;&gt;1</title>\r\n",
       "<path fill=\"none\" stroke=\"#0000ff\" d=\"M132.232,-173.799C122.398,-161.506 109.012,-144.774 97.9989,-131.007\"/>\r\n",
       "<polygon fill=\"#0000ff\" stroke=\"#0000ff\" points=\"100.481,-128.508 91.5014,-122.885 95.0153,-132.881 100.481,-128.508\"/>\r\n",
       "<text text-anchor=\"middle\" x=\"151.493\" y=\"-144.8\" font-family=\"Times New Roman,serif\" font-size=\"14.00\">yes, missing</text>\r\n",
       "</g>\r\n",
       "<!-- 2 -->\r\n",
       "<g id=\"node3\" class=\"node\"><title>2</title>\r\n",
       "<ellipse fill=\"none\" stroke=\"black\" cx=\"260.993\" cy=\"-105\" rx=\"87.1846\" ry=\"18\"/>\r\n",
       "<text text-anchor=\"middle\" x=\"260.993\" y=\"-101.3\" font-family=\"Times New Roman,serif\" font-size=\"14.00\">PropR&lt;0.474007696</text>\r\n",
       "</g>\r\n",
       "<!-- 0&#45;&gt;2 -->\r\n",
       "<g id=\"edge2\" class=\"edge\"><title>0&#45;&gt;2</title>\r\n",
       "<path fill=\"none\" stroke=\"#ff0000\" d=\"M168.439,-174.409C186.09,-161.363 210.868,-143.049 230.345,-128.653\"/>\r\n",
       "<polygon fill=\"#ff0000\" stroke=\"#ff0000\" points=\"232.642,-131.307 238.604,-122.549 228.481,-125.678 232.642,-131.307\"/>\r\n",
       "<text text-anchor=\"middle\" x=\"218.493\" y=\"-144.8\" font-family=\"Times New Roman,serif\" font-size=\"14.00\">no</text>\r\n",
       "</g>\r\n",
       "<!-- 3 -->\r\n",
       "<g id=\"node4\" class=\"node\"><title>3</title>\r\n",
       "<ellipse fill=\"none\" stroke=\"black\" cx=\"178.993\" cy=\"-18\" rx=\"79.0865\" ry=\"18\"/>\r\n",
       "<text text-anchor=\"middle\" x=\"178.993\" y=\"-14.3\" font-family=\"Times New Roman,serif\" font-size=\"14.00\">leaf=0.0269981083</text>\r\n",
       "</g>\r\n",
       "<!-- 2&#45;&gt;3 -->\r\n",
       "<g id=\"edge3\" class=\"edge\"><title>2&#45;&gt;3</title>\r\n",
       "<path fill=\"none\" stroke=\"#0000ff\" d=\"M244.793,-87.2067C232.663,-74.6335 215.895,-57.252 202.322,-43.1825\"/>\r\n",
       "<polygon fill=\"#0000ff\" stroke=\"#0000ff\" points=\"204.622,-40.5253 195.16,-35.7584 199.584,-45.3854 204.622,-40.5253\"/>\r\n",
       "<text text-anchor=\"middle\" x=\"259.493\" y=\"-57.8\" font-family=\"Times New Roman,serif\" font-size=\"14.00\">yes, missing</text>\r\n",
       "</g>\r\n",
       "<!-- 4 -->\r\n",
       "<g id=\"node5\" class=\"node\"><title>4</title>\r\n",
       "<ellipse fill=\"none\" stroke=\"black\" cx=\"342.993\" cy=\"-18\" rx=\"66.0889\" ry=\"18\"/>\r\n",
       "<text text-anchor=\"middle\" x=\"342.993\" y=\"-14.3\" font-family=\"Times New Roman,serif\" font-size=\"14.00\">leaf=0.1115724</text>\r\n",
       "</g>\r\n",
       "<!-- 2&#45;&gt;4 -->\r\n",
       "<g id=\"edge4\" class=\"edge\"><title>2&#45;&gt;4</title>\r\n",
       "<path fill=\"none\" stroke=\"#ff0000\" d=\"M279.34,-87.1949C285.381,-81.5173 292.066,-75.0763 297.993,-69 305.903,-60.891 314.28,-51.7487 321.633,-43.5202\"/>\r\n",
       "<polygon fill=\"#ff0000\" stroke=\"#ff0000\" points=\"324.308,-45.7796 328.322,-35.9746 319.069,-41.1363 324.308,-45.7796\"/>\r\n",
       "<text text-anchor=\"middle\" x=\"318.493\" y=\"-57.8\" font-family=\"Times New Roman,serif\" font-size=\"14.00\">no</text>\r\n",
       "</g>\r\n",
       "</g>\r\n",
       "</svg>\r\n"
      ],
      "text/plain": [
       "<graphviz.dot.Digraph at 0x1f05b7319c8>"
      ]
     },
     "execution_count": 53,
     "metadata": {},
     "output_type": "execute_result"
    }
   ],
   "source": [
    "xgb.to_graphviz(xgbmodel,num_trees=10)"
   ]
  },
  {
   "cell_type": "markdown",
   "metadata": {},
   "source": [
    "Example:\n",
    "\n",
    "f = 'gain'\n",
    "\n",
    "XGBClassifier.get_booster().get_score(importance_type= f)"
   ]
  },
  {
   "cell_type": "markdown",
   "metadata": {},
   "source": [
    "### Cross-Validation"
   ]
  },
  {
   "cell_type": "code",
   "execution_count": 54,
   "metadata": {},
   "outputs": [
    {
     "name": "stderr",
     "output_type": "stream",
     "text": [
      "[Parallel(n_jobs=1)]: Using backend SequentialBackend with 1 concurrent workers.\n",
      "[Parallel(n_jobs=1)]: Done   5 out of   5 | elapsed:    0.1s finished\n"
     ]
    }
   ],
   "source": [
    "cv = cross_val_score(xgbmodel,X,y,cv=5,verbose=1,scoring='accuracy')"
   ]
  },
  {
   "cell_type": "code",
   "execution_count": 55,
   "metadata": {},
   "outputs": [
    {
     "data": {
      "text/plain": [
       "0.9655172413793103"
      ]
     },
     "execution_count": 55,
     "metadata": {},
     "output_type": "execute_result"
    }
   ],
   "source": [
    "cv.mean()"
   ]
  },
  {
   "cell_type": "markdown",
   "metadata": {},
   "source": [
    "### Model Tuning"
   ]
  },
  {
   "cell_type": "code",
   "execution_count": 56,
   "metadata": {},
   "outputs": [],
   "source": [
    "model = XGBClassifier(random_state=0, n_estimators=100, objective='binary:logistic')"
   ]
  },
  {
   "cell_type": "code",
   "execution_count": 57,
   "metadata": {},
   "outputs": [],
   "source": [
    "parameters = {'max_depth': np.arange(3,10,1),\n",
    "              'learning rate': np.arange(0.05,0.3,0.03),\n",
    "              'n_estimators':np.arange(100,1000,100),\n",
    "              'min_child_weight': np.arange(1,4,1),\n",
    "              'gamma':np.arange(0,50,2),\n",
    "              'subsample':np.arange(0.5,0.9,0.1),\n",
    "              'colsample_bytree':np.arange(0.5,0.9,0.1)\n",
    "             }"
   ]
  },
  {
   "cell_type": "code",
   "execution_count": 58,
   "metadata": {},
   "outputs": [],
   "source": [
    "randm = RandomizedSearchCV(estimator=model, param_distributions = parameters, cv = 5, n_iter = 50, \n",
    "                           n_jobs=-1, scoring='accuracy')"
   ]
  },
  {
   "cell_type": "code",
   "execution_count": 59,
   "metadata": {},
   "outputs": [
    {
     "data": {
      "text/plain": [
       "RandomizedSearchCV(cv=5, error_score=nan,\n",
       "                   estimator=XGBClassifier(base_score=0.5, booster='gbtree',\n",
       "                                           colsample_bylevel=1,\n",
       "                                           colsample_bynode=1,\n",
       "                                           colsample_bytree=1, gamma=0,\n",
       "                                           learning_rate=0.1, max_delta_step=0,\n",
       "                                           max_depth=3, min_child_weight=1,\n",
       "                                           missing=None, n_estimators=100,\n",
       "                                           n_jobs=1, nthread=None,\n",
       "                                           objective='binary:logistic',\n",
       "                                           random_state=0, reg_alpha=0,\n",
       "                                           reg_lambda=1, sc...\n",
       "       34, 36, 38, 40, 42, 44, 46, 48]),\n",
       "                                        'learning rate': array([0.05, 0.08, 0.11, 0.14, 0.17, 0.2 , 0.23, 0.26, 0.29]),\n",
       "                                        'max_depth': array([3, 4, 5, 6, 7, 8, 9]),\n",
       "                                        'min_child_weight': array([1, 2, 3]),\n",
       "                                        'n_estimators': array([100, 200, 300, 400, 500, 600, 700, 800, 900]),\n",
       "                                        'subsample': array([0.5, 0.6, 0.7, 0.8])},\n",
       "                   pre_dispatch='2*n_jobs', random_state=None, refit=True,\n",
       "                   return_train_score=False, scoring='accuracy', verbose=0)"
      ]
     },
     "execution_count": 59,
     "metadata": {},
     "output_type": "execute_result"
    }
   ],
   "source": [
    "randm.fit(X, y)"
   ]
  },
  {
   "cell_type": "code",
   "execution_count": 60,
   "metadata": {},
   "outputs": [
    {
     "data": {
      "text/plain": [
       "XGBClassifier(base_score=0.5, booster='gbtree', colsample_bylevel=1,\n",
       "              colsample_bynode=1, colsample_bytree=0.6, gamma=2,\n",
       "              learning rate=0.14, learning_rate=0.1, max_delta_step=0,\n",
       "              max_depth=4, min_child_weight=3, missing=None, n_estimators=100,\n",
       "              n_jobs=1, nthread=None, objective='binary:logistic',\n",
       "              random_state=0, reg_alpha=0, reg_lambda=1, scale_pos_weight=1,\n",
       "              seed=None, silent=None, subsample=0.5, verbosity=1)"
      ]
     },
     "execution_count": 60,
     "metadata": {},
     "output_type": "execute_result"
    }
   ],
   "source": [
    "randm.best_estimator_"
   ]
  },
  {
   "cell_type": "code",
   "execution_count": 61,
   "metadata": {},
   "outputs": [
    {
     "data": {
      "text/plain": [
       "0.9724137931034484"
      ]
     },
     "execution_count": 61,
     "metadata": {},
     "output_type": "execute_result"
    }
   ],
   "source": [
    "randm.best_score_"
   ]
  },
  {
   "cell_type": "code",
   "execution_count": 62,
   "metadata": {},
   "outputs": [
    {
     "data": {
      "text/plain": [
       "{'subsample': 0.5,\n",
       " 'n_estimators': 100,\n",
       " 'min_child_weight': 3,\n",
       " 'max_depth': 4,\n",
       " 'learning rate': 0.14,\n",
       " 'gamma': 2,\n",
       " 'colsample_bytree': 0.6}"
      ]
     },
     "execution_count": 62,
     "metadata": {},
     "output_type": "execute_result"
    }
   ],
   "source": [
    "randm.best_params_"
   ]
  }
 ],
 "metadata": {
  "kernelspec": {
   "display_name": "Python 3",
   "language": "python",
   "name": "python3"
  },
  "language_info": {
   "codemirror_mode": {
    "name": "ipython",
    "version": 3
   },
   "file_extension": ".py",
   "mimetype": "text/x-python",
   "name": "python",
   "nbconvert_exporter": "python",
   "pygments_lexer": "ipython3",
   "version": "3.7.6"
  }
 },
 "nbformat": 4,
 "nbformat_minor": 4
}
