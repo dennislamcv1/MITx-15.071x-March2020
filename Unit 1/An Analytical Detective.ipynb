{
 "cells": [
  {
   "cell_type": "markdown",
   "metadata": {},
   "source": [
    "\n",
    "    ID: a unique identifier for each observation\n",
    "    Date: the date the crime occurred\n",
    "    LocationDescription: the location where the crime occurred\n",
    "    Arrest: whether or not an arrest was made for the crime (TRUE if an arrest was made, and FALSE if an arrest was not made)\n",
    "    Domestic: whether or not the crime was a domestic crime, meaning that it was committed against a family member (TRUE if it was domestic, and FALSE if it was not domestic)\n",
    "    Beat: the area, or \"beat\" in which the crime occurred. This is the smallest regional division defined by the Chicago police department.\n",
    "    District: the police district in which the crime occured. Each district is composed of many beats, and are defined by the Chicago Police Department.\n",
    "    CommunityArea: the community area in which the crime occurred. Since the 1920s, Chicago has been divided into what are called \"community areas\", of which there are now 77. The community areas were devised in an attempt to create socially homogeneous regions.\n",
    "    Year: the year in which the crime occurred.\n",
    "    Latitude: the latitude of the location at which the crime occurred.\n",
    "    Longitude: the longitude of the location at which the crime occurred.\n"
   ]
  },
  {
   "cell_type": "code",
   "execution_count": 1,
   "metadata": {},
   "outputs": [
    {
     "name": "stderr",
     "output_type": "stream",
     "text": [
      "Using TensorFlow backend.\n"
     ]
    }
   ],
   "source": [
    "import numpy as np\n",
    "import pandas as pd\n",
    "import matplotlib.pyplot as plt\n",
    "import seaborn as sns\n",
    "import sklearn\n",
    "\n",
    "import xgboost as xgb\n",
    "from xgboost import XGBClassifier, XGBRegressor\n",
    "from xgboost import to_graphviz, plot_importance\n",
    "\n",
    "from sklearn.experimental import enable_hist_gradient_boosting\n",
    "from sklearn.ensemble import _hist_gradient_boosting\n",
    "from sklearn.ensemble import HistGradientBoostingRegressor, HistGradientBoostingRegressor\n",
    "%matplotlib inline\n",
    "\n",
    "from sklearn.model_selection import cross_val_score, train_test_split, GridSearchCV, RandomizedSearchCV\n",
    "from sklearn.preprocessing import LabelEncoder, StandardScaler, MinMaxScaler\n",
    "from sklearn.metrics import confusion_matrix, classification_report, mean_absolute_error, mean_squared_error,r2_score\n",
    "from sklearn.metrics import plot_confusion_matrix, plot_precision_recall_curve, plot_roc_curve, accuracy_score\n",
    "\n",
    "import keras\n",
    "from keras.models import save_model, Sequential\n",
    "from keras.layers import Activation, BatchNormalization, Dense\n",
    "from keras.optimizers import Adam\n",
    "\n",
    "pd.options.display.max_columns= None\n",
    "#pd.options.display.max_rows = None"
   ]
  },
  {
   "cell_type": "markdown",
   "metadata": {},
   "source": [
    "### Data Exploration"
   ]
  },
  {
   "cell_type": "code",
   "execution_count": 2,
   "metadata": {},
   "outputs": [],
   "source": [
    "df = pd.read_csv(\"mvtWeek1.csv\",parse_dates=['Date'],low_memory=False,index_col='Date')"
   ]
  },
  {
   "cell_type": "code",
   "execution_count": 3,
   "metadata": {},
   "outputs": [
    {
     "data": {
      "text/html": [
       "<div>\n",
       "<style scoped>\n",
       "    .dataframe tbody tr th:only-of-type {\n",
       "        vertical-align: middle;\n",
       "    }\n",
       "\n",
       "    .dataframe tbody tr th {\n",
       "        vertical-align: top;\n",
       "    }\n",
       "\n",
       "    .dataframe thead th {\n",
       "        text-align: right;\n",
       "    }\n",
       "</style>\n",
       "<table border=\"1\" class=\"dataframe\">\n",
       "  <thead>\n",
       "    <tr style=\"text-align: right;\">\n",
       "      <th></th>\n",
       "      <th>ID</th>\n",
       "      <th>LocationDescription</th>\n",
       "      <th>Arrest</th>\n",
       "      <th>Domestic</th>\n",
       "      <th>Beat</th>\n",
       "      <th>District</th>\n",
       "      <th>CommunityArea</th>\n",
       "      <th>Year</th>\n",
       "      <th>Latitude</th>\n",
       "      <th>Longitude</th>\n",
       "    </tr>\n",
       "    <tr>\n",
       "      <th>Date</th>\n",
       "      <th></th>\n",
       "      <th></th>\n",
       "      <th></th>\n",
       "      <th></th>\n",
       "      <th></th>\n",
       "      <th></th>\n",
       "      <th></th>\n",
       "      <th></th>\n",
       "      <th></th>\n",
       "      <th></th>\n",
       "    </tr>\n",
       "  </thead>\n",
       "  <tbody>\n",
       "    <tr>\n",
       "      <th>2012-12-31 23:15:00</th>\n",
       "      <td>8951354</td>\n",
       "      <td>STREET</td>\n",
       "      <td>False</td>\n",
       "      <td>False</td>\n",
       "      <td>623</td>\n",
       "      <td>6</td>\n",
       "      <td>69</td>\n",
       "      <td>2012</td>\n",
       "      <td>41.756284</td>\n",
       "      <td>-87.621645</td>\n",
       "    </tr>\n",
       "    <tr>\n",
       "      <th>2012-12-31 22:00:00</th>\n",
       "      <td>8951141</td>\n",
       "      <td>STREET</td>\n",
       "      <td>False</td>\n",
       "      <td>False</td>\n",
       "      <td>1213</td>\n",
       "      <td>12</td>\n",
       "      <td>24</td>\n",
       "      <td>2012</td>\n",
       "      <td>41.898788</td>\n",
       "      <td>-87.661303</td>\n",
       "    </tr>\n",
       "    <tr>\n",
       "      <th>2012-12-31 22:00:00</th>\n",
       "      <td>8952745</td>\n",
       "      <td>RESIDENTIAL YARD (FRONT/BACK)</td>\n",
       "      <td>False</td>\n",
       "      <td>False</td>\n",
       "      <td>1622</td>\n",
       "      <td>16</td>\n",
       "      <td>11</td>\n",
       "      <td>2012</td>\n",
       "      <td>41.969186</td>\n",
       "      <td>-87.767670</td>\n",
       "    </tr>\n",
       "    <tr>\n",
       "      <th>2012-12-31 22:00:00</th>\n",
       "      <td>8952223</td>\n",
       "      <td>STREET</td>\n",
       "      <td>False</td>\n",
       "      <td>False</td>\n",
       "      <td>724</td>\n",
       "      <td>7</td>\n",
       "      <td>67</td>\n",
       "      <td>2012</td>\n",
       "      <td>41.769329</td>\n",
       "      <td>-87.657726</td>\n",
       "    </tr>\n",
       "    <tr>\n",
       "      <th>2012-12-31 21:30:00</th>\n",
       "      <td>8951608</td>\n",
       "      <td>STREET</td>\n",
       "      <td>False</td>\n",
       "      <td>False</td>\n",
       "      <td>211</td>\n",
       "      <td>2</td>\n",
       "      <td>35</td>\n",
       "      <td>2012</td>\n",
       "      <td>41.837568</td>\n",
       "      <td>-87.621761</td>\n",
       "    </tr>\n",
       "    <tr>\n",
       "      <th>...</th>\n",
       "      <td>...</td>\n",
       "      <td>...</td>\n",
       "      <td>...</td>\n",
       "      <td>...</td>\n",
       "      <td>...</td>\n",
       "      <td>...</td>\n",
       "      <td>...</td>\n",
       "      <td>...</td>\n",
       "      <td>...</td>\n",
       "      <td>...</td>\n",
       "    </tr>\n",
       "    <tr>\n",
       "      <th>2001-01-01 00:05:00</th>\n",
       "      <td>1310068</td>\n",
       "      <td>STREET</td>\n",
       "      <td>False</td>\n",
       "      <td>False</td>\n",
       "      <td>1123</td>\n",
       "      <td>NaN</td>\n",
       "      <td>NaN</td>\n",
       "      <td>2001</td>\n",
       "      <td>41.887566</td>\n",
       "      <td>-87.711323</td>\n",
       "    </tr>\n",
       "    <tr>\n",
       "      <th>2001-01-01 00:01:00</th>\n",
       "      <td>1313404</td>\n",
       "      <td>STREET</td>\n",
       "      <td>False</td>\n",
       "      <td>False</td>\n",
       "      <td>2023</td>\n",
       "      <td>NaN</td>\n",
       "      <td>NaN</td>\n",
       "      <td>2001</td>\n",
       "      <td>41.981924</td>\n",
       "      <td>-87.658878</td>\n",
       "    </tr>\n",
       "    <tr>\n",
       "      <th>2001-01-01 00:01:00</th>\n",
       "      <td>1313442</td>\n",
       "      <td>STREET</td>\n",
       "      <td>False</td>\n",
       "      <td>False</td>\n",
       "      <td>911</td>\n",
       "      <td>NaN</td>\n",
       "      <td>NaN</td>\n",
       "      <td>2001</td>\n",
       "      <td>41.799024</td>\n",
       "      <td>-87.696538</td>\n",
       "    </tr>\n",
       "    <tr>\n",
       "      <th>2001-01-01 00:01:00</th>\n",
       "      <td>1563324</td>\n",
       "      <td>STREET</td>\n",
       "      <td>False</td>\n",
       "      <td>False</td>\n",
       "      <td>1712</td>\n",
       "      <td>NaN</td>\n",
       "      <td>NaN</td>\n",
       "      <td>2001</td>\n",
       "      <td>41.971437</td>\n",
       "      <td>-87.727056</td>\n",
       "    </tr>\n",
       "    <tr>\n",
       "      <th>2001-01-01 00:01:00</th>\n",
       "      <td>1310463</td>\n",
       "      <td>STREET</td>\n",
       "      <td>False</td>\n",
       "      <td>False</td>\n",
       "      <td>1911</td>\n",
       "      <td>NaN</td>\n",
       "      <td>NaN</td>\n",
       "      <td>2001</td>\n",
       "      <td>41.968327</td>\n",
       "      <td>-87.696388</td>\n",
       "    </tr>\n",
       "  </tbody>\n",
       "</table>\n",
       "<p>191641 rows × 10 columns</p>\n",
       "</div>"
      ],
      "text/plain": [
       "                          ID            LocationDescription  Arrest  Domestic  \\\n",
       "Date                                                                            \n",
       "2012-12-31 23:15:00  8951354                         STREET   False     False   \n",
       "2012-12-31 22:00:00  8951141                         STREET   False     False   \n",
       "2012-12-31 22:00:00  8952745  RESIDENTIAL YARD (FRONT/BACK)   False     False   \n",
       "2012-12-31 22:00:00  8952223                         STREET   False     False   \n",
       "2012-12-31 21:30:00  8951608                         STREET   False     False   \n",
       "...                      ...                            ...     ...       ...   \n",
       "2001-01-01 00:05:00  1310068                         STREET   False     False   \n",
       "2001-01-01 00:01:00  1313404                         STREET   False     False   \n",
       "2001-01-01 00:01:00  1313442                         STREET   False     False   \n",
       "2001-01-01 00:01:00  1563324                         STREET   False     False   \n",
       "2001-01-01 00:01:00  1310463                         STREET   False     False   \n",
       "\n",
       "                     Beat District CommunityArea  Year   Latitude  Longitude  \n",
       "Date                                                                          \n",
       "2012-12-31 23:15:00   623        6            69  2012  41.756284 -87.621645  \n",
       "2012-12-31 22:00:00  1213       12            24  2012  41.898788 -87.661303  \n",
       "2012-12-31 22:00:00  1622       16            11  2012  41.969186 -87.767670  \n",
       "2012-12-31 22:00:00   724        7            67  2012  41.769329 -87.657726  \n",
       "2012-12-31 21:30:00   211        2            35  2012  41.837568 -87.621761  \n",
       "...                   ...      ...           ...   ...        ...        ...  \n",
       "2001-01-01 00:05:00  1123      NaN           NaN  2001  41.887566 -87.711323  \n",
       "2001-01-01 00:01:00  2023      NaN           NaN  2001  41.981924 -87.658878  \n",
       "2001-01-01 00:01:00   911      NaN           NaN  2001  41.799024 -87.696538  \n",
       "2001-01-01 00:01:00  1712      NaN           NaN  2001  41.971437 -87.727056  \n",
       "2001-01-01 00:01:00  1911      NaN           NaN  2001  41.968327 -87.696388  \n",
       "\n",
       "[191641 rows x 10 columns]"
      ]
     },
     "execution_count": 3,
     "metadata": {},
     "output_type": "execute_result"
    }
   ],
   "source": [
    "df"
   ]
  },
  {
   "cell_type": "code",
   "execution_count": 4,
   "metadata": {},
   "outputs": [
    {
     "name": "stdout",
     "output_type": "stream",
     "text": [
      "<class 'pandas.core.frame.DataFrame'>\n",
      "DatetimeIndex: 191641 entries, 2012-12-31 23:15:00 to 2001-01-01 00:01:00\n",
      "Data columns (total 10 columns):\n",
      " #   Column               Non-Null Count   Dtype  \n",
      "---  ------               --------------   -----  \n",
      " 0   ID                   191641 non-null  int64  \n",
      " 1   LocationDescription  191641 non-null  object \n",
      " 2   Arrest               191641 non-null  bool   \n",
      " 3   Domestic             191641 non-null  bool   \n",
      " 4   Beat                 191641 non-null  int64  \n",
      " 5   District             148589 non-null  object \n",
      " 6   CommunityArea        167038 non-null  object \n",
      " 7   Year                 191641 non-null  int64  \n",
      " 8   Latitude             189365 non-null  float64\n",
      " 9   Longitude            189365 non-null  float64\n",
      "dtypes: bool(2), float64(2), int64(3), object(3)\n",
      "memory usage: 13.5+ MB\n"
     ]
    }
   ],
   "source": [
    "df.info()"
   ]
  },
  {
   "cell_type": "code",
   "execution_count": 5,
   "metadata": {},
   "outputs": [
    {
     "data": {
      "text/html": [
       "<div>\n",
       "<style scoped>\n",
       "    .dataframe tbody tr th:only-of-type {\n",
       "        vertical-align: middle;\n",
       "    }\n",
       "\n",
       "    .dataframe tbody tr th {\n",
       "        vertical-align: top;\n",
       "    }\n",
       "\n",
       "    .dataframe thead th {\n",
       "        text-align: right;\n",
       "    }\n",
       "</style>\n",
       "<table border=\"1\" class=\"dataframe\">\n",
       "  <thead>\n",
       "    <tr style=\"text-align: right;\">\n",
       "      <th></th>\n",
       "      <th>ID</th>\n",
       "      <th>Beat</th>\n",
       "      <th>Year</th>\n",
       "      <th>Latitude</th>\n",
       "      <th>Longitude</th>\n",
       "    </tr>\n",
       "  </thead>\n",
       "  <tbody>\n",
       "    <tr>\n",
       "      <th>count</th>\n",
       "      <td>1.916410e+05</td>\n",
       "      <td>191641.000000</td>\n",
       "      <td>191641.000000</td>\n",
       "      <td>189365.000000</td>\n",
       "      <td>189365.000000</td>\n",
       "    </tr>\n",
       "    <tr>\n",
       "      <th>mean</th>\n",
       "      <td>4.968629e+06</td>\n",
       "      <td>1258.810771</td>\n",
       "      <td>2006.134940</td>\n",
       "      <td>41.844555</td>\n",
       "      <td>-87.677782</td>\n",
       "    </tr>\n",
       "    <tr>\n",
       "      <th>std</th>\n",
       "      <td>2.342997e+06</td>\n",
       "      <td>702.530465</td>\n",
       "      <td>3.520285</td>\n",
       "      <td>0.085583</td>\n",
       "      <td>0.057333</td>\n",
       "    </tr>\n",
       "    <tr>\n",
       "      <th>min</th>\n",
       "      <td>1.310022e+06</td>\n",
       "      <td>111.000000</td>\n",
       "      <td>2001.000000</td>\n",
       "      <td>41.644710</td>\n",
       "      <td>-87.925510</td>\n",
       "    </tr>\n",
       "    <tr>\n",
       "      <th>25%</th>\n",
       "      <td>2.832144e+06</td>\n",
       "      <td>722.000000</td>\n",
       "      <td>2003.000000</td>\n",
       "      <td>41.771618</td>\n",
       "      <td>-87.718474</td>\n",
       "    </tr>\n",
       "    <tr>\n",
       "      <th>50%</th>\n",
       "      <td>4.762956e+06</td>\n",
       "      <td>1121.000000</td>\n",
       "      <td>2006.000000</td>\n",
       "      <td>41.850029</td>\n",
       "      <td>-87.677597</td>\n",
       "    </tr>\n",
       "    <tr>\n",
       "      <th>75%</th>\n",
       "      <td>7.201878e+06</td>\n",
       "      <td>1733.000000</td>\n",
       "      <td>2009.000000</td>\n",
       "      <td>41.917116</td>\n",
       "      <td>-87.635513</td>\n",
       "    </tr>\n",
       "    <tr>\n",
       "      <th>max</th>\n",
       "      <td>9.181151e+06</td>\n",
       "      <td>2535.000000</td>\n",
       "      <td>2012.000000</td>\n",
       "      <td>42.022878</td>\n",
       "      <td>-87.524676</td>\n",
       "    </tr>\n",
       "  </tbody>\n",
       "</table>\n",
       "</div>"
      ],
      "text/plain": [
       "                 ID           Beat           Year       Latitude  \\\n",
       "count  1.916410e+05  191641.000000  191641.000000  189365.000000   \n",
       "mean   4.968629e+06    1258.810771    2006.134940      41.844555   \n",
       "std    2.342997e+06     702.530465       3.520285       0.085583   \n",
       "min    1.310022e+06     111.000000    2001.000000      41.644710   \n",
       "25%    2.832144e+06     722.000000    2003.000000      41.771618   \n",
       "50%    4.762956e+06    1121.000000    2006.000000      41.850029   \n",
       "75%    7.201878e+06    1733.000000    2009.000000      41.917116   \n",
       "max    9.181151e+06    2535.000000    2012.000000      42.022878   \n",
       "\n",
       "           Longitude  \n",
       "count  189365.000000  \n",
       "mean      -87.677782  \n",
       "std         0.057333  \n",
       "min       -87.925510  \n",
       "25%       -87.718474  \n",
       "50%       -87.677597  \n",
       "75%       -87.635513  \n",
       "max       -87.524676  "
      ]
     },
     "execution_count": 5,
     "metadata": {},
     "output_type": "execute_result"
    }
   ],
   "source": [
    "df.describe()"
   ]
  },
  {
   "cell_type": "markdown",
   "metadata": {},
   "source": [
    "#### Time series Analysis"
   ]
  },
  {
   "cell_type": "code",
   "execution_count": 6,
   "metadata": {},
   "outputs": [
    {
     "data": {
      "text/plain": [
       "DatetimeIndex(['2012-12-01', '2012-12-02', '2012-12-03', '2012-12-04',\n",
       "               '2012-12-05', '2012-12-06', '2012-12-07', '2012-12-08',\n",
       "               '2012-12-09', '2012-12-10', '2012-12-11', '2012-12-12',\n",
       "               '2012-12-13', '2012-12-14', '2012-12-15', '2012-12-16',\n",
       "               '2012-12-17', '2012-12-18', '2012-12-19', '2012-12-20',\n",
       "               '2012-12-21', '2012-12-22', '2012-12-23', '2012-12-24',\n",
       "               '2012-12-25', '2012-12-26', '2012-12-27', '2012-12-28',\n",
       "               '2012-12-29', '2012-12-30', '2012-12-31'],\n",
       "              dtype='datetime64[ns]', freq='D')"
      ]
     },
     "execution_count": 6,
     "metadata": {},
     "output_type": "execute_result"
    }
   ],
   "source": [
    "pd.date_range(start='2012-12-01',end='2012-12-31')"
   ]
  },
  {
   "cell_type": "code",
   "execution_count": 7,
   "metadata": {},
   "outputs": [
    {
     "data": {
      "text/plain": [
       "ID                         0\n",
       "LocationDescription        0\n",
       "Arrest                     0\n",
       "Domestic                   0\n",
       "Beat                       0\n",
       "District               43052\n",
       "CommunityArea          24603\n",
       "Year                       0\n",
       "Latitude                2276\n",
       "Longitude               2276\n",
       "dtype: int64"
      ]
     },
     "execution_count": 7,
     "metadata": {},
     "output_type": "execute_result"
    }
   ],
   "source": [
    "df.isnull().sum()"
   ]
  },
  {
   "cell_type": "code",
   "execution_count": 8,
   "metadata": {},
   "outputs": [
    {
     "data": {
      "text/plain": [
       "0"
      ]
     },
     "execution_count": 8,
     "metadata": {},
     "output_type": "execute_result"
    }
   ],
   "source": [
    "df.duplicated().sum()"
   ]
  },
  {
   "cell_type": "code",
   "execution_count": 9,
   "metadata": {},
   "outputs": [
    {
     "data": {
      "text/plain": [
       "(191641, 10)"
      ]
     },
     "execution_count": 9,
     "metadata": {},
     "output_type": "execute_result"
    }
   ],
   "source": [
    "df.shape"
   ]
  },
  {
   "cell_type": "code",
   "execution_count": 10,
   "metadata": {},
   "outputs": [],
   "source": [
    "df.dropna(inplace=True)"
   ]
  },
  {
   "cell_type": "code",
   "execution_count": 11,
   "metadata": {},
   "outputs": [],
   "source": [
    "df.reset_index(drop=True,inplace=True)"
   ]
  },
  {
   "cell_type": "code",
   "execution_count": 12,
   "metadata": {},
   "outputs": [
    {
     "data": {
      "text/html": [
       "<div>\n",
       "<style scoped>\n",
       "    .dataframe tbody tr th:only-of-type {\n",
       "        vertical-align: middle;\n",
       "    }\n",
       "\n",
       "    .dataframe tbody tr th {\n",
       "        vertical-align: top;\n",
       "    }\n",
       "\n",
       "    .dataframe thead th {\n",
       "        text-align: right;\n",
       "    }\n",
       "</style>\n",
       "<table border=\"1\" class=\"dataframe\">\n",
       "  <thead>\n",
       "    <tr style=\"text-align: right;\">\n",
       "      <th></th>\n",
       "      <th>ID</th>\n",
       "      <th>LocationDescription</th>\n",
       "      <th>Arrest</th>\n",
       "      <th>Domestic</th>\n",
       "      <th>Beat</th>\n",
       "      <th>District</th>\n",
       "      <th>CommunityArea</th>\n",
       "      <th>Year</th>\n",
       "      <th>Latitude</th>\n",
       "      <th>Longitude</th>\n",
       "    </tr>\n",
       "  </thead>\n",
       "  <tbody>\n",
       "    <tr>\n",
       "      <th>0</th>\n",
       "      <td>8951354</td>\n",
       "      <td>STREET</td>\n",
       "      <td>False</td>\n",
       "      <td>False</td>\n",
       "      <td>623</td>\n",
       "      <td>6</td>\n",
       "      <td>69</td>\n",
       "      <td>2012</td>\n",
       "      <td>41.756284</td>\n",
       "      <td>-87.621645</td>\n",
       "    </tr>\n",
       "    <tr>\n",
       "      <th>1</th>\n",
       "      <td>8951141</td>\n",
       "      <td>STREET</td>\n",
       "      <td>False</td>\n",
       "      <td>False</td>\n",
       "      <td>1213</td>\n",
       "      <td>12</td>\n",
       "      <td>24</td>\n",
       "      <td>2012</td>\n",
       "      <td>41.898788</td>\n",
       "      <td>-87.661303</td>\n",
       "    </tr>\n",
       "    <tr>\n",
       "      <th>2</th>\n",
       "      <td>8952745</td>\n",
       "      <td>RESIDENTIAL YARD (FRONT/BACK)</td>\n",
       "      <td>False</td>\n",
       "      <td>False</td>\n",
       "      <td>1622</td>\n",
       "      <td>16</td>\n",
       "      <td>11</td>\n",
       "      <td>2012</td>\n",
       "      <td>41.969186</td>\n",
       "      <td>-87.767670</td>\n",
       "    </tr>\n",
       "    <tr>\n",
       "      <th>3</th>\n",
       "      <td>8952223</td>\n",
       "      <td>STREET</td>\n",
       "      <td>False</td>\n",
       "      <td>False</td>\n",
       "      <td>724</td>\n",
       "      <td>7</td>\n",
       "      <td>67</td>\n",
       "      <td>2012</td>\n",
       "      <td>41.769329</td>\n",
       "      <td>-87.657726</td>\n",
       "    </tr>\n",
       "    <tr>\n",
       "      <th>4</th>\n",
       "      <td>8951608</td>\n",
       "      <td>STREET</td>\n",
       "      <td>False</td>\n",
       "      <td>False</td>\n",
       "      <td>211</td>\n",
       "      <td>2</td>\n",
       "      <td>35</td>\n",
       "      <td>2012</td>\n",
       "      <td>41.837568</td>\n",
       "      <td>-87.621761</td>\n",
       "    </tr>\n",
       "    <tr>\n",
       "      <th>...</th>\n",
       "      <td>...</td>\n",
       "      <td>...</td>\n",
       "      <td>...</td>\n",
       "      <td>...</td>\n",
       "      <td>...</td>\n",
       "      <td>...</td>\n",
       "      <td>...</td>\n",
       "      <td>...</td>\n",
       "      <td>...</td>\n",
       "      <td>...</td>\n",
       "    </tr>\n",
       "    <tr>\n",
       "      <th>148576</th>\n",
       "      <td>1356371</td>\n",
       "      <td>CHA PARKING LOT/GROUNDS</td>\n",
       "      <td>False</td>\n",
       "      <td>False</td>\n",
       "      <td>533</td>\n",
       "      <td>5</td>\n",
       "      <td>54</td>\n",
       "      <td>2001</td>\n",
       "      <td>41.654508</td>\n",
       "      <td>-87.596895</td>\n",
       "    </tr>\n",
       "    <tr>\n",
       "      <th>148577</th>\n",
       "      <td>1339061</td>\n",
       "      <td>STREET</td>\n",
       "      <td>False</td>\n",
       "      <td>False</td>\n",
       "      <td>613</td>\n",
       "      <td>6</td>\n",
       "      <td>71</td>\n",
       "      <td>2001</td>\n",
       "      <td>41.745352</td>\n",
       "      <td>-87.654961</td>\n",
       "    </tr>\n",
       "    <tr>\n",
       "      <th>148578</th>\n",
       "      <td>1318415</td>\n",
       "      <td>PARKING LOT/GARAGE(NON.RESID.)</td>\n",
       "      <td>False</td>\n",
       "      <td>False</td>\n",
       "      <td>1614</td>\n",
       "      <td>16</td>\n",
       "      <td>76</td>\n",
       "      <td>2001</td>\n",
       "      <td>41.981134</td>\n",
       "      <td>-87.841530</td>\n",
       "    </tr>\n",
       "    <tr>\n",
       "      <th>148579</th>\n",
       "      <td>1322018</td>\n",
       "      <td>STREET</td>\n",
       "      <td>False</td>\n",
       "      <td>False</td>\n",
       "      <td>1712</td>\n",
       "      <td>17</td>\n",
       "      <td>13</td>\n",
       "      <td>2001</td>\n",
       "      <td>41.975713</td>\n",
       "      <td>-87.713706</td>\n",
       "    </tr>\n",
       "    <tr>\n",
       "      <th>148580</th>\n",
       "      <td>1310988</td>\n",
       "      <td>STREET</td>\n",
       "      <td>False</td>\n",
       "      <td>False</td>\n",
       "      <td>831</td>\n",
       "      <td>8</td>\n",
       "      <td>66</td>\n",
       "      <td>2001</td>\n",
       "      <td>41.775451</td>\n",
       "      <td>-87.690719</td>\n",
       "    </tr>\n",
       "  </tbody>\n",
       "</table>\n",
       "<p>148581 rows × 10 columns</p>\n",
       "</div>"
      ],
      "text/plain": [
       "             ID             LocationDescription  Arrest  Domestic  Beat  \\\n",
       "0       8951354                          STREET   False     False   623   \n",
       "1       8951141                          STREET   False     False  1213   \n",
       "2       8952745   RESIDENTIAL YARD (FRONT/BACK)   False     False  1622   \n",
       "3       8952223                          STREET   False     False   724   \n",
       "4       8951608                          STREET   False     False   211   \n",
       "...         ...                             ...     ...       ...   ...   \n",
       "148576  1356371         CHA PARKING LOT/GROUNDS   False     False   533   \n",
       "148577  1339061                          STREET   False     False   613   \n",
       "148578  1318415  PARKING LOT/GARAGE(NON.RESID.)   False     False  1614   \n",
       "148579  1322018                          STREET   False     False  1712   \n",
       "148580  1310988                          STREET   False     False   831   \n",
       "\n",
       "       District CommunityArea  Year   Latitude  Longitude  \n",
       "0             6            69  2012  41.756284 -87.621645  \n",
       "1            12            24  2012  41.898788 -87.661303  \n",
       "2            16            11  2012  41.969186 -87.767670  \n",
       "3             7            67  2012  41.769329 -87.657726  \n",
       "4             2            35  2012  41.837568 -87.621761  \n",
       "...         ...           ...   ...        ...        ...  \n",
       "148576        5            54  2001  41.654508 -87.596895  \n",
       "148577        6            71  2001  41.745352 -87.654961  \n",
       "148578       16            76  2001  41.981134 -87.841530  \n",
       "148579       17            13  2001  41.975713 -87.713706  \n",
       "148580        8            66  2001  41.775451 -87.690719  \n",
       "\n",
       "[148581 rows x 10 columns]"
      ]
     },
     "execution_count": 12,
     "metadata": {},
     "output_type": "execute_result"
    }
   ],
   "source": [
    "df"
   ]
  },
  {
   "cell_type": "markdown",
   "metadata": {},
   "source": [
    "### Data Visualization"
   ]
  },
  {
   "cell_type": "code",
   "execution_count": 13,
   "metadata": {},
   "outputs": [
    {
     "data": {
      "text/plain": [
       "STREET                            122567\n",
       "PARKING LOT/GARAGE(NON.RESID.)     10310\n",
       "OTHER                               3270\n",
       "ALLEY                               1688\n",
       "GAS STATION                         1584\n",
       "                                   ...  \n",
       "AIRPORT EXTERIOR - SECURE AREA         1\n",
       "CURRENCY EXCHANGE                      1\n",
       "CTA TRAIN                              1\n",
       "NEWSSTAND                              1\n",
       "ANIMAL HOSPITAL                        1\n",
       "Name: LocationDescription, Length: 77, dtype: int64"
      ]
     },
     "execution_count": 13,
     "metadata": {},
     "output_type": "execute_result"
    }
   ],
   "source": [
    "df['LocationDescription'].value_counts()"
   ]
  },
  {
   "cell_type": "code",
   "execution_count": 14,
   "metadata": {},
   "outputs": [
    {
     "data": {
      "text/plain": [
       "False    137696\n",
       "True      10885\n",
       "Name: Arrest, dtype: int64"
      ]
     },
     "execution_count": 14,
     "metadata": {},
     "output_type": "execute_result"
    }
   ],
   "source": [
    "df['Arrest'].value_counts()"
   ]
  },
  {
   "cell_type": "code",
   "execution_count": 15,
   "metadata": {},
   "outputs": [
    {
     "data": {
      "text/plain": [
       "False    148213\n",
       "True        368\n",
       "Name: Domestic, dtype: int64"
      ]
     },
     "execution_count": 15,
     "metadata": {},
     "output_type": "execute_result"
    }
   ],
   "source": [
    "df['Domestic'].value_counts()"
   ]
  },
  {
   "cell_type": "code",
   "execution_count": 16,
   "metadata": {},
   "outputs": [
    {
     "data": {
      "text/plain": [
       "2004    16823\n",
       "2005    16403\n",
       "2006    16069\n",
       "2011    15622\n",
       "2010    15484\n",
       "2008    14280\n",
       "2007    14271\n",
       "2012    13997\n",
       "2003    12977\n",
       "2009    12039\n",
       "2002      494\n",
       "2001      122\n",
       "Name: Year, dtype: int64"
      ]
     },
     "execution_count": 16,
     "metadata": {},
     "output_type": "execute_result"
    }
   ],
   "source": [
    "df['Year'].value_counts()"
   ]
  },
  {
   "cell_type": "code",
   "execution_count": 17,
   "metadata": {},
   "outputs": [],
   "source": [
    "df['District'] = pd.to_numeric(df['District'],errors='coerce')"
   ]
  },
  {
   "cell_type": "code",
   "execution_count": 18,
   "metadata": {},
   "outputs": [
    {
     "data": {
      "text/plain": [
       "4"
      ]
     },
     "execution_count": 18,
     "metadata": {},
     "output_type": "execute_result"
    }
   ],
   "source": [
    "df['District'].isnull().sum()"
   ]
  },
  {
   "cell_type": "code",
   "execution_count": 19,
   "metadata": {},
   "outputs": [],
   "source": [
    "df['CommunityArea'] = pd.to_numeric(df['CommunityArea'],errors='coerce')"
   ]
  },
  {
   "cell_type": "code",
   "execution_count": 20,
   "metadata": {},
   "outputs": [
    {
     "data": {
      "text/plain": [
       "12"
      ]
     },
     "execution_count": 20,
     "metadata": {},
     "output_type": "execute_result"
    }
   ],
   "source": [
    "df['CommunityArea'].isnull().sum()"
   ]
  },
  {
   "cell_type": "code",
   "execution_count": 21,
   "metadata": {},
   "outputs": [
    {
     "name": "stdout",
     "output_type": "stream",
     "text": [
      "<class 'pandas.core.frame.DataFrame'>\n",
      "RangeIndex: 148581 entries, 0 to 148580\n",
      "Data columns (total 10 columns):\n",
      " #   Column               Non-Null Count   Dtype  \n",
      "---  ------               --------------   -----  \n",
      " 0   ID                   148581 non-null  int64  \n",
      " 1   LocationDescription  148581 non-null  object \n",
      " 2   Arrest               148581 non-null  bool   \n",
      " 3   Domestic             148581 non-null  bool   \n",
      " 4   Beat                 148581 non-null  int64  \n",
      " 5   District             148577 non-null  float64\n",
      " 6   CommunityArea        148569 non-null  float64\n",
      " 7   Year                 148581 non-null  int64  \n",
      " 8   Latitude             148581 non-null  float64\n",
      " 9   Longitude            148581 non-null  float64\n",
      "dtypes: bool(2), float64(4), int64(3), object(1)\n",
      "memory usage: 9.4+ MB\n"
     ]
    }
   ],
   "source": [
    "df.info()"
   ]
  },
  {
   "cell_type": "code",
   "execution_count": 22,
   "metadata": {},
   "outputs": [
    {
     "data": {
      "image/png": "[encoded data removed]",
      "text/plain": [
       "<Figure size 1152x648 with 6 Axes>"
      ]
     },
     "metadata": {
      "needs_background": "light"
     },
     "output_type": "display_data"
    }
   ],
   "source": [
    "fig = plt.figure(figsize=(16,9))\n",
    "\n",
    "plt.subplot(3,2,1)\n",
    "sns.distplot(df.Beat)\n",
    "plt.subplot(3,2,2)\n",
    "sns.distplot(df.District)\n",
    "plt.subplot(3,2,3)\n",
    "sns.countplot(x=df['Arrest'])\n",
    "plt.subplot(3,2,4)\n",
    "sns.countplot(x=df['Domestic'])\n",
    "plt.subplot(3,2,5)\n",
    "sns.barplot(x=df['Year'],y=df['Arrest'])\n",
    "plt.subplot(3,2,6)\n",
    "sns.boxplot(x=df['Arrest'])\n",
    "plt.tight_layout()\n",
    "plt.show()"
   ]
  },
  {
   "cell_type": "code",
   "execution_count": 23,
   "metadata": {},
   "outputs": [
    {
     "data": {
      "text/plain": [
       "ID                      0\n",
       "LocationDescription     0\n",
       "Arrest                  0\n",
       "Domestic                0\n",
       "Beat                    0\n",
       "District                4\n",
       "CommunityArea          12\n",
       "Year                    0\n",
       "Latitude                0\n",
       "Longitude               0\n",
       "dtype: int64"
      ]
     },
     "execution_count": 23,
     "metadata": {},
     "output_type": "execute_result"
    }
   ],
   "source": [
    "df.isnull().sum()"
   ]
  },
  {
   "cell_type": "code",
   "execution_count": 24,
   "metadata": {},
   "outputs": [],
   "source": [
    "df.dropna(inplace=True)"
   ]
  },
  {
   "cell_type": "code",
   "execution_count": 25,
   "metadata": {},
   "outputs": [],
   "source": [
    "df.reset_index(drop=True,inplace=True)"
   ]
  },
  {
   "cell_type": "code",
   "execution_count": 26,
   "metadata": {},
   "outputs": [
    {
     "data": {
      "text/html": [
       "<div>\n",
       "<style scoped>\n",
       "    .dataframe tbody tr th:only-of-type {\n",
       "        vertical-align: middle;\n",
       "    }\n",
       "\n",
       "    .dataframe tbody tr th {\n",
       "        vertical-align: top;\n",
       "    }\n",
       "\n",
       "    .dataframe thead th {\n",
       "        text-align: right;\n",
       "    }\n",
       "</style>\n",
       "<table border=\"1\" class=\"dataframe\">\n",
       "  <thead>\n",
       "    <tr style=\"text-align: right;\">\n",
       "      <th></th>\n",
       "      <th>ID</th>\n",
       "      <th>LocationDescription</th>\n",
       "      <th>Arrest</th>\n",
       "      <th>Domestic</th>\n",
       "      <th>Beat</th>\n",
       "      <th>District</th>\n",
       "      <th>CommunityArea</th>\n",
       "      <th>Year</th>\n",
       "      <th>Latitude</th>\n",
       "      <th>Longitude</th>\n",
       "    </tr>\n",
       "  </thead>\n",
       "  <tbody>\n",
       "    <tr>\n",
       "      <th>0</th>\n",
       "      <td>8951354</td>\n",
       "      <td>STREET</td>\n",
       "      <td>False</td>\n",
       "      <td>False</td>\n",
       "      <td>623</td>\n",
       "      <td>6.0</td>\n",
       "      <td>69.0</td>\n",
       "      <td>2012</td>\n",
       "      <td>41.756284</td>\n",
       "      <td>-87.621645</td>\n",
       "    </tr>\n",
       "    <tr>\n",
       "      <th>1</th>\n",
       "      <td>8951141</td>\n",
       "      <td>STREET</td>\n",
       "      <td>False</td>\n",
       "      <td>False</td>\n",
       "      <td>1213</td>\n",
       "      <td>12.0</td>\n",
       "      <td>24.0</td>\n",
       "      <td>2012</td>\n",
       "      <td>41.898788</td>\n",
       "      <td>-87.661303</td>\n",
       "    </tr>\n",
       "    <tr>\n",
       "      <th>2</th>\n",
       "      <td>8952745</td>\n",
       "      <td>RESIDENTIAL YARD (FRONT/BACK)</td>\n",
       "      <td>False</td>\n",
       "      <td>False</td>\n",
       "      <td>1622</td>\n",
       "      <td>16.0</td>\n",
       "      <td>11.0</td>\n",
       "      <td>2012</td>\n",
       "      <td>41.969186</td>\n",
       "      <td>-87.767670</td>\n",
       "    </tr>\n",
       "    <tr>\n",
       "      <th>3</th>\n",
       "      <td>8952223</td>\n",
       "      <td>STREET</td>\n",
       "      <td>False</td>\n",
       "      <td>False</td>\n",
       "      <td>724</td>\n",
       "      <td>7.0</td>\n",
       "      <td>67.0</td>\n",
       "      <td>2012</td>\n",
       "      <td>41.769329</td>\n",
       "      <td>-87.657726</td>\n",
       "    </tr>\n",
       "    <tr>\n",
       "      <th>4</th>\n",
       "      <td>8951608</td>\n",
       "      <td>STREET</td>\n",
       "      <td>False</td>\n",
       "      <td>False</td>\n",
       "      <td>211</td>\n",
       "      <td>2.0</td>\n",
       "      <td>35.0</td>\n",
       "      <td>2012</td>\n",
       "      <td>41.837568</td>\n",
       "      <td>-87.621761</td>\n",
       "    </tr>\n",
       "    <tr>\n",
       "      <th>...</th>\n",
       "      <td>...</td>\n",
       "      <td>...</td>\n",
       "      <td>...</td>\n",
       "      <td>...</td>\n",
       "      <td>...</td>\n",
       "      <td>...</td>\n",
       "      <td>...</td>\n",
       "      <td>...</td>\n",
       "      <td>...</td>\n",
       "      <td>...</td>\n",
       "    </tr>\n",
       "    <tr>\n",
       "      <th>148560</th>\n",
       "      <td>1356371</td>\n",
       "      <td>CHA PARKING LOT/GROUNDS</td>\n",
       "      <td>False</td>\n",
       "      <td>False</td>\n",
       "      <td>533</td>\n",
       "      <td>5.0</td>\n",
       "      <td>54.0</td>\n",
       "      <td>2001</td>\n",
       "      <td>41.654508</td>\n",
       "      <td>-87.596895</td>\n",
       "    </tr>\n",
       "    <tr>\n",
       "      <th>148561</th>\n",
       "      <td>1339061</td>\n",
       "      <td>STREET</td>\n",
       "      <td>False</td>\n",
       "      <td>False</td>\n",
       "      <td>613</td>\n",
       "      <td>6.0</td>\n",
       "      <td>71.0</td>\n",
       "      <td>2001</td>\n",
       "      <td>41.745352</td>\n",
       "      <td>-87.654961</td>\n",
       "    </tr>\n",
       "    <tr>\n",
       "      <th>148562</th>\n",
       "      <td>1318415</td>\n",
       "      <td>PARKING LOT/GARAGE(NON.RESID.)</td>\n",
       "      <td>False</td>\n",
       "      <td>False</td>\n",
       "      <td>1614</td>\n",
       "      <td>16.0</td>\n",
       "      <td>76.0</td>\n",
       "      <td>2001</td>\n",
       "      <td>41.981134</td>\n",
       "      <td>-87.841530</td>\n",
       "    </tr>\n",
       "    <tr>\n",
       "      <th>148563</th>\n",
       "      <td>1322018</td>\n",
       "      <td>STREET</td>\n",
       "      <td>False</td>\n",
       "      <td>False</td>\n",
       "      <td>1712</td>\n",
       "      <td>17.0</td>\n",
       "      <td>13.0</td>\n",
       "      <td>2001</td>\n",
       "      <td>41.975713</td>\n",
       "      <td>-87.713706</td>\n",
       "    </tr>\n",
       "    <tr>\n",
       "      <th>148564</th>\n",
       "      <td>1310988</td>\n",
       "      <td>STREET</td>\n",
       "      <td>False</td>\n",
       "      <td>False</td>\n",
       "      <td>831</td>\n",
       "      <td>8.0</td>\n",
       "      <td>66.0</td>\n",
       "      <td>2001</td>\n",
       "      <td>41.775451</td>\n",
       "      <td>-87.690719</td>\n",
       "    </tr>\n",
       "  </tbody>\n",
       "</table>\n",
       "<p>148565 rows × 10 columns</p>\n",
       "</div>"
      ],
      "text/plain": [
       "             ID             LocationDescription  Arrest  Domestic  Beat  \\\n",
       "0       8951354                          STREET   False     False   623   \n",
       "1       8951141                          STREET   False     False  1213   \n",
       "2       8952745   RESIDENTIAL YARD (FRONT/BACK)   False     False  1622   \n",
       "3       8952223                          STREET   False     False   724   \n",
       "4       8951608                          STREET   False     False   211   \n",
       "...         ...                             ...     ...       ...   ...   \n",
       "148560  1356371         CHA PARKING LOT/GROUNDS   False     False   533   \n",
       "148561  1339061                          STREET   False     False   613   \n",
       "148562  1318415  PARKING LOT/GARAGE(NON.RESID.)   False     False  1614   \n",
       "148563  1322018                          STREET   False     False  1712   \n",
       "148564  1310988                          STREET   False     False   831   \n",
       "\n",
       "        District  CommunityArea  Year   Latitude  Longitude  \n",
       "0            6.0           69.0  2012  41.756284 -87.621645  \n",
       "1           12.0           24.0  2012  41.898788 -87.661303  \n",
       "2           16.0           11.0  2012  41.969186 -87.767670  \n",
       "3            7.0           67.0  2012  41.769329 -87.657726  \n",
       "4            2.0           35.0  2012  41.837568 -87.621761  \n",
       "...          ...            ...   ...        ...        ...  \n",
       "148560       5.0           54.0  2001  41.654508 -87.596895  \n",
       "148561       6.0           71.0  2001  41.745352 -87.654961  \n",
       "148562      16.0           76.0  2001  41.981134 -87.841530  \n",
       "148563      17.0           13.0  2001  41.975713 -87.713706  \n",
       "148564       8.0           66.0  2001  41.775451 -87.690719  \n",
       "\n",
       "[148565 rows x 10 columns]"
      ]
     },
     "execution_count": 26,
     "metadata": {},
     "output_type": "execute_result"
    }
   ],
   "source": [
    "df"
   ]
  },
  {
   "cell_type": "markdown",
   "metadata": {},
   "source": [
    "### Data Preprocessing"
   ]
  },
  {
   "cell_type": "code",
   "execution_count": 27,
   "metadata": {},
   "outputs": [],
   "source": [
    "# Target label is ARREST"
   ]
  },
  {
   "cell_type": "code",
   "execution_count": 28,
   "metadata": {},
   "outputs": [],
   "source": [
    "df2 = df[['Domestic','Beat','District','CommunityArea', 'Arrest']]"
   ]
  },
  {
   "cell_type": "code",
   "execution_count": 29,
   "metadata": {},
   "outputs": [
    {
     "data": {
      "text/html": [
       "<div>\n",
       "<style scoped>\n",
       "    .dataframe tbody tr th:only-of-type {\n",
       "        vertical-align: middle;\n",
       "    }\n",
       "\n",
       "    .dataframe tbody tr th {\n",
       "        vertical-align: top;\n",
       "    }\n",
       "\n",
       "    .dataframe thead th {\n",
       "        text-align: right;\n",
       "    }\n",
       "</style>\n",
       "<table border=\"1\" class=\"dataframe\">\n",
       "  <thead>\n",
       "    <tr style=\"text-align: right;\">\n",
       "      <th></th>\n",
       "      <th>Domestic</th>\n",
       "      <th>Beat</th>\n",
       "      <th>District</th>\n",
       "      <th>CommunityArea</th>\n",
       "      <th>Arrest</th>\n",
       "    </tr>\n",
       "  </thead>\n",
       "  <tbody>\n",
       "    <tr>\n",
       "      <th>0</th>\n",
       "      <td>False</td>\n",
       "      <td>623</td>\n",
       "      <td>6.0</td>\n",
       "      <td>69.0</td>\n",
       "      <td>False</td>\n",
       "    </tr>\n",
       "    <tr>\n",
       "      <th>1</th>\n",
       "      <td>False</td>\n",
       "      <td>1213</td>\n",
       "      <td>12.0</td>\n",
       "      <td>24.0</td>\n",
       "      <td>False</td>\n",
       "    </tr>\n",
       "    <tr>\n",
       "      <th>2</th>\n",
       "      <td>False</td>\n",
       "      <td>1622</td>\n",
       "      <td>16.0</td>\n",
       "      <td>11.0</td>\n",
       "      <td>False</td>\n",
       "    </tr>\n",
       "    <tr>\n",
       "      <th>3</th>\n",
       "      <td>False</td>\n",
       "      <td>724</td>\n",
       "      <td>7.0</td>\n",
       "      <td>67.0</td>\n",
       "      <td>False</td>\n",
       "    </tr>\n",
       "    <tr>\n",
       "      <th>4</th>\n",
       "      <td>False</td>\n",
       "      <td>211</td>\n",
       "      <td>2.0</td>\n",
       "      <td>35.0</td>\n",
       "      <td>False</td>\n",
       "    </tr>\n",
       "    <tr>\n",
       "      <th>...</th>\n",
       "      <td>...</td>\n",
       "      <td>...</td>\n",
       "      <td>...</td>\n",
       "      <td>...</td>\n",
       "      <td>...</td>\n",
       "    </tr>\n",
       "    <tr>\n",
       "      <th>148560</th>\n",
       "      <td>False</td>\n",
       "      <td>533</td>\n",
       "      <td>5.0</td>\n",
       "      <td>54.0</td>\n",
       "      <td>False</td>\n",
       "    </tr>\n",
       "    <tr>\n",
       "      <th>148561</th>\n",
       "      <td>False</td>\n",
       "      <td>613</td>\n",
       "      <td>6.0</td>\n",
       "      <td>71.0</td>\n",
       "      <td>False</td>\n",
       "    </tr>\n",
       "    <tr>\n",
       "      <th>148562</th>\n",
       "      <td>False</td>\n",
       "      <td>1614</td>\n",
       "      <td>16.0</td>\n",
       "      <td>76.0</td>\n",
       "      <td>False</td>\n",
       "    </tr>\n",
       "    <tr>\n",
       "      <th>148563</th>\n",
       "      <td>False</td>\n",
       "      <td>1712</td>\n",
       "      <td>17.0</td>\n",
       "      <td>13.0</td>\n",
       "      <td>False</td>\n",
       "    </tr>\n",
       "    <tr>\n",
       "      <th>148564</th>\n",
       "      <td>False</td>\n",
       "      <td>831</td>\n",
       "      <td>8.0</td>\n",
       "      <td>66.0</td>\n",
       "      <td>False</td>\n",
       "    </tr>\n",
       "  </tbody>\n",
       "</table>\n",
       "<p>148565 rows × 5 columns</p>\n",
       "</div>"
      ],
      "text/plain": [
       "        Domestic  Beat  District  CommunityArea  Arrest\n",
       "0          False   623       6.0           69.0   False\n",
       "1          False  1213      12.0           24.0   False\n",
       "2          False  1622      16.0           11.0   False\n",
       "3          False   724       7.0           67.0   False\n",
       "4          False   211       2.0           35.0   False\n",
       "...          ...   ...       ...            ...     ...\n",
       "148560     False   533       5.0           54.0   False\n",
       "148561     False   613       6.0           71.0   False\n",
       "148562     False  1614      16.0           76.0   False\n",
       "148563     False  1712      17.0           13.0   False\n",
       "148564     False   831       8.0           66.0   False\n",
       "\n",
       "[148565 rows x 5 columns]"
      ]
     },
     "execution_count": 29,
     "metadata": {},
     "output_type": "execute_result"
    }
   ],
   "source": [
    "df2"
   ]
  },
  {
   "cell_type": "code",
   "execution_count": 30,
   "metadata": {},
   "outputs": [],
   "source": [
    "encoder = LabelEncoder()"
   ]
  },
  {
   "cell_type": "code",
   "execution_count": 31,
   "metadata": {},
   "outputs": [
    {
     "name": "stderr",
     "output_type": "stream",
     "text": [
      "C:\\ProgramData\\Anaconda3\\lib\\site-packages\\ipykernel_launcher.py:1: SettingWithCopyWarning: \n",
      "A value is trying to be set on a copy of a slice from a DataFrame.\n",
      "Try using .loc[row_indexer,col_indexer] = value instead\n",
      "\n",
      "See the caveats in the documentation: https://pandas.pydata.org/pandas-docs/stable/user_guide/indexing.html#returning-a-view-versus-a-copy\n",
      "  \"\"\"Entry point for launching an IPython kernel.\n"
     ]
    }
   ],
   "source": [
    "df2['Arrest'] = encoder.fit_transform(df2['Arrest'])"
   ]
  },
  {
   "cell_type": "code",
   "execution_count": 32,
   "metadata": {},
   "outputs": [
    {
     "data": {
      "text/html": [
       "<div>\n",
       "<style scoped>\n",
       "    .dataframe tbody tr th:only-of-type {\n",
       "        vertical-align: middle;\n",
       "    }\n",
       "\n",
       "    .dataframe tbody tr th {\n",
       "        vertical-align: top;\n",
       "    }\n",
       "\n",
       "    .dataframe thead th {\n",
       "        text-align: right;\n",
       "    }\n",
       "</style>\n",
       "<table border=\"1\" class=\"dataframe\">\n",
       "  <thead>\n",
       "    <tr style=\"text-align: right;\">\n",
       "      <th></th>\n",
       "      <th>Domestic</th>\n",
       "      <th>Beat</th>\n",
       "      <th>District</th>\n",
       "      <th>CommunityArea</th>\n",
       "      <th>Arrest</th>\n",
       "    </tr>\n",
       "  </thead>\n",
       "  <tbody>\n",
       "    <tr>\n",
       "      <th>0</th>\n",
       "      <td>False</td>\n",
       "      <td>623</td>\n",
       "      <td>6.0</td>\n",
       "      <td>69.0</td>\n",
       "      <td>0</td>\n",
       "    </tr>\n",
       "    <tr>\n",
       "      <th>1</th>\n",
       "      <td>False</td>\n",
       "      <td>1213</td>\n",
       "      <td>12.0</td>\n",
       "      <td>24.0</td>\n",
       "      <td>0</td>\n",
       "    </tr>\n",
       "    <tr>\n",
       "      <th>2</th>\n",
       "      <td>False</td>\n",
       "      <td>1622</td>\n",
       "      <td>16.0</td>\n",
       "      <td>11.0</td>\n",
       "      <td>0</td>\n",
       "    </tr>\n",
       "    <tr>\n",
       "      <th>3</th>\n",
       "      <td>False</td>\n",
       "      <td>724</td>\n",
       "      <td>7.0</td>\n",
       "      <td>67.0</td>\n",
       "      <td>0</td>\n",
       "    </tr>\n",
       "    <tr>\n",
       "      <th>4</th>\n",
       "      <td>False</td>\n",
       "      <td>211</td>\n",
       "      <td>2.0</td>\n",
       "      <td>35.0</td>\n",
       "      <td>0</td>\n",
       "    </tr>\n",
       "    <tr>\n",
       "      <th>...</th>\n",
       "      <td>...</td>\n",
       "      <td>...</td>\n",
       "      <td>...</td>\n",
       "      <td>...</td>\n",
       "      <td>...</td>\n",
       "    </tr>\n",
       "    <tr>\n",
       "      <th>148560</th>\n",
       "      <td>False</td>\n",
       "      <td>533</td>\n",
       "      <td>5.0</td>\n",
       "      <td>54.0</td>\n",
       "      <td>0</td>\n",
       "    </tr>\n",
       "    <tr>\n",
       "      <th>148561</th>\n",
       "      <td>False</td>\n",
       "      <td>613</td>\n",
       "      <td>6.0</td>\n",
       "      <td>71.0</td>\n",
       "      <td>0</td>\n",
       "    </tr>\n",
       "    <tr>\n",
       "      <th>148562</th>\n",
       "      <td>False</td>\n",
       "      <td>1614</td>\n",
       "      <td>16.0</td>\n",
       "      <td>76.0</td>\n",
       "      <td>0</td>\n",
       "    </tr>\n",
       "    <tr>\n",
       "      <th>148563</th>\n",
       "      <td>False</td>\n",
       "      <td>1712</td>\n",
       "      <td>17.0</td>\n",
       "      <td>13.0</td>\n",
       "      <td>0</td>\n",
       "    </tr>\n",
       "    <tr>\n",
       "      <th>148564</th>\n",
       "      <td>False</td>\n",
       "      <td>831</td>\n",
       "      <td>8.0</td>\n",
       "      <td>66.0</td>\n",
       "      <td>0</td>\n",
       "    </tr>\n",
       "  </tbody>\n",
       "</table>\n",
       "<p>148565 rows × 5 columns</p>\n",
       "</div>"
      ],
      "text/plain": [
       "        Domestic  Beat  District  CommunityArea  Arrest\n",
       "0          False   623       6.0           69.0       0\n",
       "1          False  1213      12.0           24.0       0\n",
       "2          False  1622      16.0           11.0       0\n",
       "3          False   724       7.0           67.0       0\n",
       "4          False   211       2.0           35.0       0\n",
       "...          ...   ...       ...            ...     ...\n",
       "148560     False   533       5.0           54.0       0\n",
       "148561     False   613       6.0           71.0       0\n",
       "148562     False  1614      16.0           76.0       0\n",
       "148563     False  1712      17.0           13.0       0\n",
       "148564     False   831       8.0           66.0       0\n",
       "\n",
       "[148565 rows x 5 columns]"
      ]
     },
     "execution_count": 32,
     "metadata": {},
     "output_type": "execute_result"
    }
   ],
   "source": [
    "df2"
   ]
  },
  {
   "cell_type": "code",
   "execution_count": 33,
   "metadata": {},
   "outputs": [
    {
     "data": {
      "text/plain": [
       "0    137682\n",
       "1     10883\n",
       "Name: Arrest, dtype: int64"
      ]
     },
     "execution_count": 33,
     "metadata": {},
     "output_type": "execute_result"
    }
   ],
   "source": [
    "df2['Arrest'].value_counts()"
   ]
  },
  {
   "cell_type": "code",
   "execution_count": 34,
   "metadata": {},
   "outputs": [
    {
     "data": {
      "text/plain": [
       "False    148197\n",
       "True        368\n",
       "Name: Domestic, dtype: int64"
      ]
     },
     "execution_count": 34,
     "metadata": {},
     "output_type": "execute_result"
    }
   ],
   "source": [
    "df2['Domestic'].value_counts()"
   ]
  },
  {
   "cell_type": "code",
   "execution_count": 35,
   "metadata": {},
   "outputs": [],
   "source": [
    "df3 = pd.get_dummies(df2,columns=['Domestic'],drop_first=True)"
   ]
  },
  {
   "cell_type": "code",
   "execution_count": 36,
   "metadata": {},
   "outputs": [
    {
     "data": {
      "text/html": [
       "<div>\n",
       "<style scoped>\n",
       "    .dataframe tbody tr th:only-of-type {\n",
       "        vertical-align: middle;\n",
       "    }\n",
       "\n",
       "    .dataframe tbody tr th {\n",
       "        vertical-align: top;\n",
       "    }\n",
       "\n",
       "    .dataframe thead th {\n",
       "        text-align: right;\n",
       "    }\n",
       "</style>\n",
       "<table border=\"1\" class=\"dataframe\">\n",
       "  <thead>\n",
       "    <tr style=\"text-align: right;\">\n",
       "      <th></th>\n",
       "      <th>Beat</th>\n",
       "      <th>District</th>\n",
       "      <th>CommunityArea</th>\n",
       "      <th>Arrest</th>\n",
       "      <th>Domestic_True</th>\n",
       "    </tr>\n",
       "  </thead>\n",
       "  <tbody>\n",
       "    <tr>\n",
       "      <th>0</th>\n",
       "      <td>623</td>\n",
       "      <td>6.0</td>\n",
       "      <td>69.0</td>\n",
       "      <td>0</td>\n",
       "      <td>0</td>\n",
       "    </tr>\n",
       "    <tr>\n",
       "      <th>1</th>\n",
       "      <td>1213</td>\n",
       "      <td>12.0</td>\n",
       "      <td>24.0</td>\n",
       "      <td>0</td>\n",
       "      <td>0</td>\n",
       "    </tr>\n",
       "    <tr>\n",
       "      <th>2</th>\n",
       "      <td>1622</td>\n",
       "      <td>16.0</td>\n",
       "      <td>11.0</td>\n",
       "      <td>0</td>\n",
       "      <td>0</td>\n",
       "    </tr>\n",
       "    <tr>\n",
       "      <th>3</th>\n",
       "      <td>724</td>\n",
       "      <td>7.0</td>\n",
       "      <td>67.0</td>\n",
       "      <td>0</td>\n",
       "      <td>0</td>\n",
       "    </tr>\n",
       "    <tr>\n",
       "      <th>4</th>\n",
       "      <td>211</td>\n",
       "      <td>2.0</td>\n",
       "      <td>35.0</td>\n",
       "      <td>0</td>\n",
       "      <td>0</td>\n",
       "    </tr>\n",
       "    <tr>\n",
       "      <th>...</th>\n",
       "      <td>...</td>\n",
       "      <td>...</td>\n",
       "      <td>...</td>\n",
       "      <td>...</td>\n",
       "      <td>...</td>\n",
       "    </tr>\n",
       "    <tr>\n",
       "      <th>148560</th>\n",
       "      <td>533</td>\n",
       "      <td>5.0</td>\n",
       "      <td>54.0</td>\n",
       "      <td>0</td>\n",
       "      <td>0</td>\n",
       "    </tr>\n",
       "    <tr>\n",
       "      <th>148561</th>\n",
       "      <td>613</td>\n",
       "      <td>6.0</td>\n",
       "      <td>71.0</td>\n",
       "      <td>0</td>\n",
       "      <td>0</td>\n",
       "    </tr>\n",
       "    <tr>\n",
       "      <th>148562</th>\n",
       "      <td>1614</td>\n",
       "      <td>16.0</td>\n",
       "      <td>76.0</td>\n",
       "      <td>0</td>\n",
       "      <td>0</td>\n",
       "    </tr>\n",
       "    <tr>\n",
       "      <th>148563</th>\n",
       "      <td>1712</td>\n",
       "      <td>17.0</td>\n",
       "      <td>13.0</td>\n",
       "      <td>0</td>\n",
       "      <td>0</td>\n",
       "    </tr>\n",
       "    <tr>\n",
       "      <th>148564</th>\n",
       "      <td>831</td>\n",
       "      <td>8.0</td>\n",
       "      <td>66.0</td>\n",
       "      <td>0</td>\n",
       "      <td>0</td>\n",
       "    </tr>\n",
       "  </tbody>\n",
       "</table>\n",
       "<p>148565 rows × 5 columns</p>\n",
       "</div>"
      ],
      "text/plain": [
       "        Beat  District  CommunityArea  Arrest  Domestic_True\n",
       "0        623       6.0           69.0       0              0\n",
       "1       1213      12.0           24.0       0              0\n",
       "2       1622      16.0           11.0       0              0\n",
       "3        724       7.0           67.0       0              0\n",
       "4        211       2.0           35.0       0              0\n",
       "...      ...       ...            ...     ...            ...\n",
       "148560   533       5.0           54.0       0              0\n",
       "148561   613       6.0           71.0       0              0\n",
       "148562  1614      16.0           76.0       0              0\n",
       "148563  1712      17.0           13.0       0              0\n",
       "148564   831       8.0           66.0       0              0\n",
       "\n",
       "[148565 rows x 5 columns]"
      ]
     },
     "execution_count": 36,
     "metadata": {},
     "output_type": "execute_result"
    }
   ],
   "source": [
    "df3"
   ]
  },
  {
   "cell_type": "code",
   "execution_count": 38,
   "metadata": {},
   "outputs": [],
   "source": [
    "df4 = df3[['Beat','District','CommunityArea','Domestic_True','Arrest']]"
   ]
  },
  {
   "cell_type": "code",
   "execution_count": 39,
   "metadata": {},
   "outputs": [
    {
     "data": {
      "text/html": [
       "<div>\n",
       "<style scoped>\n",
       "    .dataframe tbody tr th:only-of-type {\n",
       "        vertical-align: middle;\n",
       "    }\n",
       "\n",
       "    .dataframe tbody tr th {\n",
       "        vertical-align: top;\n",
       "    }\n",
       "\n",
       "    .dataframe thead th {\n",
       "        text-align: right;\n",
       "    }\n",
       "</style>\n",
       "<table border=\"1\" class=\"dataframe\">\n",
       "  <thead>\n",
       "    <tr style=\"text-align: right;\">\n",
       "      <th></th>\n",
       "      <th>Beat</th>\n",
       "      <th>District</th>\n",
       "      <th>CommunityArea</th>\n",
       "      <th>Domestic_True</th>\n",
       "      <th>Arrest</th>\n",
       "    </tr>\n",
       "  </thead>\n",
       "  <tbody>\n",
       "    <tr>\n",
       "      <th>0</th>\n",
       "      <td>623</td>\n",
       "      <td>6.0</td>\n",
       "      <td>69.0</td>\n",
       "      <td>0</td>\n",
       "      <td>0</td>\n",
       "    </tr>\n",
       "    <tr>\n",
       "      <th>1</th>\n",
       "      <td>1213</td>\n",
       "      <td>12.0</td>\n",
       "      <td>24.0</td>\n",
       "      <td>0</td>\n",
       "      <td>0</td>\n",
       "    </tr>\n",
       "    <tr>\n",
       "      <th>2</th>\n",
       "      <td>1622</td>\n",
       "      <td>16.0</td>\n",
       "      <td>11.0</td>\n",
       "      <td>0</td>\n",
       "      <td>0</td>\n",
       "    </tr>\n",
       "    <tr>\n",
       "      <th>3</th>\n",
       "      <td>724</td>\n",
       "      <td>7.0</td>\n",
       "      <td>67.0</td>\n",
       "      <td>0</td>\n",
       "      <td>0</td>\n",
       "    </tr>\n",
       "    <tr>\n",
       "      <th>4</th>\n",
       "      <td>211</td>\n",
       "      <td>2.0</td>\n",
       "      <td>35.0</td>\n",
       "      <td>0</td>\n",
       "      <td>0</td>\n",
       "    </tr>\n",
       "    <tr>\n",
       "      <th>...</th>\n",
       "      <td>...</td>\n",
       "      <td>...</td>\n",
       "      <td>...</td>\n",
       "      <td>...</td>\n",
       "      <td>...</td>\n",
       "    </tr>\n",
       "    <tr>\n",
       "      <th>148560</th>\n",
       "      <td>533</td>\n",
       "      <td>5.0</td>\n",
       "      <td>54.0</td>\n",
       "      <td>0</td>\n",
       "      <td>0</td>\n",
       "    </tr>\n",
       "    <tr>\n",
       "      <th>148561</th>\n",
       "      <td>613</td>\n",
       "      <td>6.0</td>\n",
       "      <td>71.0</td>\n",
       "      <td>0</td>\n",
       "      <td>0</td>\n",
       "    </tr>\n",
       "    <tr>\n",
       "      <th>148562</th>\n",
       "      <td>1614</td>\n",
       "      <td>16.0</td>\n",
       "      <td>76.0</td>\n",
       "      <td>0</td>\n",
       "      <td>0</td>\n",
       "    </tr>\n",
       "    <tr>\n",
       "      <th>148563</th>\n",
       "      <td>1712</td>\n",
       "      <td>17.0</td>\n",
       "      <td>13.0</td>\n",
       "      <td>0</td>\n",
       "      <td>0</td>\n",
       "    </tr>\n",
       "    <tr>\n",
       "      <th>148564</th>\n",
       "      <td>831</td>\n",
       "      <td>8.0</td>\n",
       "      <td>66.0</td>\n",
       "      <td>0</td>\n",
       "      <td>0</td>\n",
       "    </tr>\n",
       "  </tbody>\n",
       "</table>\n",
       "<p>148565 rows × 5 columns</p>\n",
       "</div>"
      ],
      "text/plain": [
       "        Beat  District  CommunityArea  Domestic_True  Arrest\n",
       "0        623       6.0           69.0              0       0\n",
       "1       1213      12.0           24.0              0       0\n",
       "2       1622      16.0           11.0              0       0\n",
       "3        724       7.0           67.0              0       0\n",
       "4        211       2.0           35.0              0       0\n",
       "...      ...       ...            ...            ...     ...\n",
       "148560   533       5.0           54.0              0       0\n",
       "148561   613       6.0           71.0              0       0\n",
       "148562  1614      16.0           76.0              0       0\n",
       "148563  1712      17.0           13.0              0       0\n",
       "148564   831       8.0           66.0              0       0\n",
       "\n",
       "[148565 rows x 5 columns]"
      ]
     },
     "execution_count": 39,
     "metadata": {},
     "output_type": "execute_result"
    }
   ],
   "source": [
    "df4"
   ]
  },
  {
   "cell_type": "markdown",
   "metadata": {},
   "source": [
    "### Model Training"
   ]
  },
  {
   "cell_type": "code",
   "execution_count": 41,
   "metadata": {},
   "outputs": [],
   "source": [
    "X = df4.iloc[:,0:4]\n",
    "y = df4.iloc[:,4]"
   ]
  },
  {
   "cell_type": "code",
   "execution_count": 42,
   "metadata": {},
   "outputs": [
    {
     "data": {
      "text/plain": [
       "(array([[ 623.,    6.,   69.,    0.],\n",
       "        [1213.,   12.,   24.,    0.],\n",
       "        [1622.,   16.,   11.,    0.],\n",
       "        ...,\n",
       "        [1614.,   16.,   76.,    0.],\n",
       "        [1712.,   17.,   13.,    0.],\n",
       "        [ 831.,    8.,   66.,    0.]]),\n",
       " array([0, 0, 0, ..., 0, 0, 0], dtype=int64))"
      ]
     },
     "execution_count": 42,
     "metadata": {},
     "output_type": "execute_result"
    }
   ],
   "source": [
    "X.values, y.values"
   ]
  },
  {
   "cell_type": "code",
   "execution_count": 43,
   "metadata": {},
   "outputs": [],
   "source": [
    "scalar = StandardScaler()"
   ]
  },
  {
   "cell_type": "code",
   "execution_count": 44,
   "metadata": {},
   "outputs": [],
   "source": [
    "X_scaled = scalar.fit_transform(X)"
   ]
  },
  {
   "cell_type": "code",
   "execution_count": 45,
   "metadata": {},
   "outputs": [
    {
     "data": {
      "text/plain": [
       "array([[-0.90255769, -0.83529972,  1.44911542, -0.04983153],\n",
       "       [-0.06072167,  0.02616509, -0.65169775, -0.04983153],\n",
       "       [ 0.52285618,  0.60047496, -1.25859934, -0.04983153],\n",
       "       ...,\n",
       "       [ 0.51144146,  0.60047496,  1.77590859, -0.04983153],\n",
       "       [ 0.65127185,  0.74405243, -1.16522986, -0.04983153],\n",
       "       [-0.60577482, -0.54814479,  1.30906121, -0.04983153]])"
      ]
     },
     "execution_count": 45,
     "metadata": {},
     "output_type": "execute_result"
    }
   ],
   "source": [
    "X_scaled"
   ]
  },
  {
   "cell_type": "code",
   "execution_count": 46,
   "metadata": {},
   "outputs": [],
   "source": [
    "X_train, X_test, y_train, y_test = train_test_split(X_scaled, y, test_size=0.2, random_state=0)"
   ]
  },
  {
   "cell_type": "code",
   "execution_count": 47,
   "metadata": {},
   "outputs": [
    {
     "data": {
      "text/plain": [
       "((118852, 4), (29713, 4))"
      ]
     },
     "execution_count": 47,
     "metadata": {},
     "output_type": "execute_result"
    }
   ],
   "source": [
    "X_train.shape, X_test.shape"
   ]
  },
  {
   "cell_type": "code",
   "execution_count": 49,
   "metadata": {},
   "outputs": [],
   "source": [
    "xgb = XGBClassifier(random_state=0, n_estimators=400, objective='binary:logistic')"
   ]
  },
  {
   "cell_type": "code",
   "execution_count": 51,
   "metadata": {},
   "outputs": [
    {
     "name": "stdout",
     "output_type": "stream",
     "text": [
      "[0]\tvalidation_0-auc:0.536436\n",
      "Will train until validation_0-auc hasn't improved in 20 rounds.\n",
      "[1]\tvalidation_0-auc:0.549721\n",
      "[2]\tvalidation_0-auc:0.549206\n",
      "[3]\tvalidation_0-auc:0.549769\n",
      "[4]\tvalidation_0-auc:0.549874\n",
      "[5]\tvalidation_0-auc:0.549874\n",
      "[6]\tvalidation_0-auc:0.549716\n",
      "[7]\tvalidation_0-auc:0.549963\n",
      "[8]\tvalidation_0-auc:0.549805\n",
      "[9]\tvalidation_0-auc:0.549781\n",
      "[10]\tvalidation_0-auc:0.54964\n",
      "[11]\tvalidation_0-auc:0.552728\n",
      "[12]\tvalidation_0-auc:0.552951\n",
      "[13]\tvalidation_0-auc:0.552897\n",
      "[14]\tvalidation_0-auc:0.552942\n",
      "[15]\tvalidation_0-auc:0.554787\n",
      "[16]\tvalidation_0-auc:0.554741\n",
      "[17]\tvalidation_0-auc:0.555113\n",
      "[18]\tvalidation_0-auc:0.557367\n",
      "[19]\tvalidation_0-auc:0.557369\n",
      "[20]\tvalidation_0-auc:0.557471\n",
      "[21]\tvalidation_0-auc:0.557068\n",
      "[22]\tvalidation_0-auc:0.557012\n",
      "[23]\tvalidation_0-auc:0.557133\n",
      "[24]\tvalidation_0-auc:0.557537\n",
      "[25]\tvalidation_0-auc:0.558511\n",
      "[26]\tvalidation_0-auc:0.557776\n",
      "[27]\tvalidation_0-auc:0.558297\n",
      "[28]\tvalidation_0-auc:0.558598\n",
      "[29]\tvalidation_0-auc:0.558621\n",
      "[30]\tvalidation_0-auc:0.558723\n",
      "[31]\tvalidation_0-auc:0.560034\n",
      "[32]\tvalidation_0-auc:0.559928\n",
      "[33]\tvalidation_0-auc:0.559952\n",
      "[34]\tvalidation_0-auc:0.559635\n",
      "[35]\tvalidation_0-auc:0.559656\n",
      "[36]\tvalidation_0-auc:0.560148\n",
      "[37]\tvalidation_0-auc:0.560606\n",
      "[38]\tvalidation_0-auc:0.560359\n",
      "[39]\tvalidation_0-auc:0.561116\n",
      "[40]\tvalidation_0-auc:0.560611\n",
      "[41]\tvalidation_0-auc:0.560507\n",
      "[42]\tvalidation_0-auc:0.560766\n",
      "[43]\tvalidation_0-auc:0.561832\n",
      "[44]\tvalidation_0-auc:0.561997\n",
      "[45]\tvalidation_0-auc:0.562987\n",
      "[46]\tvalidation_0-auc:0.563088\n",
      "[47]\tvalidation_0-auc:0.563086\n",
      "[48]\tvalidation_0-auc:0.562997\n",
      "[49]\tvalidation_0-auc:0.563018\n",
      "[50]\tvalidation_0-auc:0.562628\n",
      "[51]\tvalidation_0-auc:0.563866\n",
      "[52]\tvalidation_0-auc:0.563623\n",
      "[53]\tvalidation_0-auc:0.563661\n",
      "[54]\tvalidation_0-auc:0.564573\n",
      "[55]\tvalidation_0-auc:0.564727\n",
      "[56]\tvalidation_0-auc:0.565823\n",
      "[57]\tvalidation_0-auc:0.566997\n",
      "[58]\tvalidation_0-auc:0.567358\n",
      "[59]\tvalidation_0-auc:0.568035\n",
      "[60]\tvalidation_0-auc:0.567799\n",
      "[61]\tvalidation_0-auc:0.5681\n",
      "[62]\tvalidation_0-auc:0.568471\n",
      "[63]\tvalidation_0-auc:0.568382\n",
      "[64]\tvalidation_0-auc:0.568954\n",
      "[65]\tvalidation_0-auc:0.568656\n",
      "[66]\tvalidation_0-auc:0.568481\n",
      "[67]\tvalidation_0-auc:0.568482\n",
      "[68]\tvalidation_0-auc:0.568179\n",
      "[69]\tvalidation_0-auc:0.56797\n",
      "[70]\tvalidation_0-auc:0.567946\n",
      "[71]\tvalidation_0-auc:0.568794\n",
      "[72]\tvalidation_0-auc:0.568666\n",
      "[73]\tvalidation_0-auc:0.568668\n",
      "[74]\tvalidation_0-auc:0.569616\n",
      "[75]\tvalidation_0-auc:0.569539\n",
      "[76]\tvalidation_0-auc:0.569953\n",
      "[77]\tvalidation_0-auc:0.570117\n",
      "[78]\tvalidation_0-auc:0.570216\n",
      "[79]\tvalidation_0-auc:0.570309\n",
      "[80]\tvalidation_0-auc:0.570227\n",
      "[81]\tvalidation_0-auc:0.570216\n",
      "[82]\tvalidation_0-auc:0.570121\n",
      "[83]\tvalidation_0-auc:0.570341\n",
      "[84]\tvalidation_0-auc:0.570283\n",
      "[85]\tvalidation_0-auc:0.570262\n",
      "[86]\tvalidation_0-auc:0.569953\n",
      "[87]\tvalidation_0-auc:0.569985\n",
      "[88]\tvalidation_0-auc:0.569937\n",
      "[89]\tvalidation_0-auc:0.569939\n",
      "[90]\tvalidation_0-auc:0.570049\n",
      "[91]\tvalidation_0-auc:0.570148\n",
      "[92]\tvalidation_0-auc:0.570141\n",
      "[93]\tvalidation_0-auc:0.570168\n",
      "[94]\tvalidation_0-auc:0.5705\n",
      "[95]\tvalidation_0-auc:0.570575\n",
      "[96]\tvalidation_0-auc:0.570574\n",
      "[97]\tvalidation_0-auc:0.570624\n",
      "[98]\tvalidation_0-auc:0.57064\n",
      "[99]\tvalidation_0-auc:0.570747\n",
      "[100]\tvalidation_0-auc:0.571025\n",
      "[101]\tvalidation_0-auc:0.571241\n",
      "[102]\tvalidation_0-auc:0.571271\n",
      "[103]\tvalidation_0-auc:0.571514\n",
      "[104]\tvalidation_0-auc:0.571457\n",
      "[105]\tvalidation_0-auc:0.571525\n",
      "[106]\tvalidation_0-auc:0.57143\n",
      "[107]\tvalidation_0-auc:0.571448\n",
      "[108]\tvalidation_0-auc:0.571397\n",
      "[109]\tvalidation_0-auc:0.571609\n",
      "[110]\tvalidation_0-auc:0.571509\n",
      "[111]\tvalidation_0-auc:0.571445\n",
      "[112]\tvalidation_0-auc:0.571323\n",
      "[113]\tvalidation_0-auc:0.571617\n",
      "[114]\tvalidation_0-auc:0.571643\n",
      "[115]\tvalidation_0-auc:0.571696\n",
      "[116]\tvalidation_0-auc:0.571756\n",
      "[117]\tvalidation_0-auc:0.571698\n",
      "[118]\tvalidation_0-auc:0.571865\n",
      "[119]\tvalidation_0-auc:0.571937\n",
      "[120]\tvalidation_0-auc:0.57189\n",
      "[121]\tvalidation_0-auc:0.572113\n",
      "[122]\tvalidation_0-auc:0.572028\n",
      "[123]\tvalidation_0-auc:0.572157\n",
      "[124]\tvalidation_0-auc:0.572304\n",
      "[125]\tvalidation_0-auc:0.572476\n",
      "[126]\tvalidation_0-auc:0.572475\n",
      "[127]\tvalidation_0-auc:0.572338\n",
      "[128]\tvalidation_0-auc:0.572011\n",
      "[129]\tvalidation_0-auc:0.572512\n",
      "[130]\tvalidation_0-auc:0.572248\n",
      "[131]\tvalidation_0-auc:0.572144\n",
      "[132]\tvalidation_0-auc:0.572298\n",
      "[133]\tvalidation_0-auc:0.572535\n",
      "[134]\tvalidation_0-auc:0.572484\n",
      "[135]\tvalidation_0-auc:0.572509\n",
      "[136]\tvalidation_0-auc:0.572572\n",
      "[137]\tvalidation_0-auc:0.572447\n",
      "[138]\tvalidation_0-auc:0.572568\n",
      "[139]\tvalidation_0-auc:0.572626\n",
      "[140]\tvalidation_0-auc:0.572661\n",
      "[141]\tvalidation_0-auc:0.572639\n",
      "[142]\tvalidation_0-auc:0.57265\n",
      "[143]\tvalidation_0-auc:0.572641\n",
      "[144]\tvalidation_0-auc:0.572778\n",
      "[145]\tvalidation_0-auc:0.572715\n",
      "[146]\tvalidation_0-auc:0.572858\n",
      "[147]\tvalidation_0-auc:0.57293\n",
      "[148]\tvalidation_0-auc:0.572997\n",
      "[149]\tvalidation_0-auc:0.573103\n",
      "[150]\tvalidation_0-auc:0.573158\n",
      "[151]\tvalidation_0-auc:0.573333\n",
      "[152]\tvalidation_0-auc:0.573328\n",
      "[153]\tvalidation_0-auc:0.57328\n",
      "[154]\tvalidation_0-auc:0.573224\n",
      "[155]\tvalidation_0-auc:0.573298\n",
      "[156]\tvalidation_0-auc:0.573285\n",
      "[157]\tvalidation_0-auc:0.573244\n",
      "[158]\tvalidation_0-auc:0.573228\n",
      "[159]\tvalidation_0-auc:0.573077\n",
      "[160]\tvalidation_0-auc:0.573184\n",
      "[161]\tvalidation_0-auc:0.573151\n",
      "[162]\tvalidation_0-auc:0.573201\n",
      "[163]\tvalidation_0-auc:0.57313\n",
      "[164]\tvalidation_0-auc:0.57309\n",
      "[165]\tvalidation_0-auc:0.573353\n",
      "[166]\tvalidation_0-auc:0.573323\n",
      "[167]\tvalidation_0-auc:0.573547\n",
      "[168]\tvalidation_0-auc:0.573499\n",
      "[169]\tvalidation_0-auc:0.573508\n",
      "[170]\tvalidation_0-auc:0.57344\n",
      "[171]\tvalidation_0-auc:0.573443\n",
      "[172]\tvalidation_0-auc:0.573453\n",
      "[173]\tvalidation_0-auc:0.573499\n",
      "[174]\tvalidation_0-auc:0.573484\n",
      "[175]\tvalidation_0-auc:0.573464\n",
      "[176]\tvalidation_0-auc:0.573503\n",
      "[177]\tvalidation_0-auc:0.573568\n",
      "[178]\tvalidation_0-auc:0.573532\n",
      "[179]\tvalidation_0-auc:0.573567\n",
      "[180]\tvalidation_0-auc:0.573443\n",
      "[181]\tvalidation_0-auc:0.573292\n",
      "[182]\tvalidation_0-auc:0.573507\n",
      "[183]\tvalidation_0-auc:0.573477\n",
      "[184]\tvalidation_0-auc:0.573476\n",
      "[185]\tvalidation_0-auc:0.573421\n",
      "[186]\tvalidation_0-auc:0.573376\n",
      "[187]\tvalidation_0-auc:0.573503\n",
      "[188]\tvalidation_0-auc:0.57366\n",
      "[189]\tvalidation_0-auc:0.573739\n",
      "[190]\tvalidation_0-auc:0.573863\n",
      "[191]\tvalidation_0-auc:0.573805\n",
      "[192]\tvalidation_0-auc:0.573772\n",
      "[193]\tvalidation_0-auc:0.573809\n",
      "[194]\tvalidation_0-auc:0.573886\n",
      "[195]\tvalidation_0-auc:0.573927\n",
      "[196]\tvalidation_0-auc:0.573901\n",
      "[197]\tvalidation_0-auc:0.573889\n",
      "[198]\tvalidation_0-auc:0.573929\n",
      "[199]\tvalidation_0-auc:0.574128\n",
      "[200]\tvalidation_0-auc:0.574\n",
      "[201]\tvalidation_0-auc:0.573803\n",
      "[202]\tvalidation_0-auc:0.573837\n",
      "[203]\tvalidation_0-auc:0.573878\n",
      "[204]\tvalidation_0-auc:0.573898\n",
      "[205]\tvalidation_0-auc:0.573994\n",
      "[206]\tvalidation_0-auc:0.574088\n",
      "[207]\tvalidation_0-auc:0.574094\n",
      "[208]\tvalidation_0-auc:0.574073\n",
      "[209]\tvalidation_0-auc:0.574041\n",
      "[210]\tvalidation_0-auc:0.574018\n",
      "[211]\tvalidation_0-auc:0.573995\n",
      "[212]\tvalidation_0-auc:0.573958\n",
      "[213]\tvalidation_0-auc:0.57402\n",
      "[214]\tvalidation_0-auc:0.574038\n",
      "[215]\tvalidation_0-auc:0.574123\n",
      "[216]\tvalidation_0-auc:0.574209\n",
      "[217]\tvalidation_0-auc:0.574286\n",
      "[218]\tvalidation_0-auc:0.574268\n",
      "[219]\tvalidation_0-auc:0.57422\n",
      "[220]\tvalidation_0-auc:0.574189\n",
      "[221]\tvalidation_0-auc:0.574152\n",
      "[222]\tvalidation_0-auc:0.574131\n",
      "[223]\tvalidation_0-auc:0.574088\n",
      "[224]\tvalidation_0-auc:0.574148\n",
      "[225]\tvalidation_0-auc:0.574179\n",
      "[226]\tvalidation_0-auc:0.574151\n",
      "[227]\tvalidation_0-auc:0.574121\n",
      "[228]\tvalidation_0-auc:0.574053\n",
      "[229]\tvalidation_0-auc:0.57415\n",
      "[230]\tvalidation_0-auc:0.574135\n",
      "[231]\tvalidation_0-auc:0.574147\n",
      "[232]\tvalidation_0-auc:0.574127\n",
      "[233]\tvalidation_0-auc:0.574025\n",
      "[234]\tvalidation_0-auc:0.573962\n",
      "[235]\tvalidation_0-auc:0.574181\n",
      "[236]\tvalidation_0-auc:0.574281\n",
      "[237]\tvalidation_0-auc:0.574264\n",
      "Stopping. Best iteration:\n",
      "[217]\tvalidation_0-auc:0.574286\n",
      "\n"
     ]
    },
    {
     "data": {
      "text/plain": [
       "XGBClassifier(base_score=0.5, booster='gbtree', colsample_bylevel=1,\n",
       "              colsample_bynode=1, colsample_bytree=1, gamma=0,\n",
       "              learning_rate=0.1, max_delta_step=0, max_depth=3,\n",
       "              min_child_weight=1, missing=None, n_estimators=400, n_jobs=1,\n",
       "              nthread=None, objective='binary:logistic', random_state=0,\n",
       "              reg_alpha=0, reg_lambda=1, scale_pos_weight=1, seed=None,\n",
       "              silent=None, subsample=1, verbosity=1)"
      ]
     },
     "execution_count": 51,
     "metadata": {},
     "output_type": "execute_result"
    }
   ],
   "source": [
    "xgb.fit(X_train,y_train,eval_set=[(X_test,y_test)],eval_metric='auc',early_stopping_rounds=20)"
   ]
  },
  {
   "cell_type": "code",
   "execution_count": 52,
   "metadata": {},
   "outputs": [],
   "source": [
    "y_pred = xgb.predict(X_test)"
   ]
  },
  {
   "cell_type": "code",
   "execution_count": 53,
   "metadata": {},
   "outputs": [
    {
     "data": {
      "text/plain": [
       "array([0, 0, 0, ..., 0, 0, 0], dtype=int64)"
      ]
     },
     "execution_count": 53,
     "metadata": {},
     "output_type": "execute_result"
    }
   ],
   "source": [
    "y_pred"
   ]
  },
  {
   "cell_type": "markdown",
   "metadata": {},
   "source": [
    "### Model Evaluation"
   ]
  },
  {
   "cell_type": "code",
   "execution_count": 54,
   "metadata": {},
   "outputs": [
    {
     "name": "stdout",
     "output_type": "stream",
     "text": [
      "              precision    recall  f1-score   support\n",
      "\n",
      "           0       0.93      1.00      0.96     27556\n",
      "           1       0.00      0.00      0.00      2157\n",
      "\n",
      "    accuracy                           0.93     29713\n",
      "   macro avg       0.46      0.50      0.48     29713\n",
      "weighted avg       0.86      0.93      0.89     29713\n",
      "\n"
     ]
    },
    {
     "name": "stderr",
     "output_type": "stream",
     "text": [
      "C:\\ProgramData\\Anaconda3\\lib\\site-packages\\sklearn\\metrics\\_classification.py:1272: UndefinedMetricWarning: Precision and F-score are ill-defined and being set to 0.0 in labels with no predicted samples. Use `zero_division` parameter to control this behavior.\n",
      "  _warn_prf(average, modifier, msg_start, len(result))\n"
     ]
    }
   ],
   "source": [
    "print(classification_report(y_test,y_pred))"
   ]
  },
  {
   "cell_type": "code",
   "execution_count": 55,
   "metadata": {},
   "outputs": [
    {
     "data": {
      "text/plain": [
       "<sklearn.metrics._plot.roc_curve.RocCurveDisplay at 0x16a4370b488>"
      ]
     },
     "execution_count": 55,
     "metadata": {},
     "output_type": "execute_result"
    },
    {
     "data": {
      "image/png": "[encoded data removed]",
      "text/plain": [
       "<Figure size 432x288 with 1 Axes>"
      ]
     },
     "metadata": {
      "needs_background": "light"
     },
     "output_type": "display_data"
    }
   ],
   "source": [
    "plot_roc_curve(xgb,X_test,y_test)"
   ]
  },
  {
   "cell_type": "code",
   "execution_count": null,
   "metadata": {},
   "outputs": [],
   "source": []
  }
 ],
 "metadata": {
  "kernelspec": {
   "display_name": "Python 3",
   "language": "python",
   "name": "python3"
  },
  "language_info": {
   "codemirror_mode": {
    "name": "ipython",
    "version": 3
   },
   "file_extension": ".py",
   "mimetype": "text/x-python",
   "name": "python",
   "nbconvert_exporter": "python",
   "pygments_lexer": "ipython3",
   "version": "3.7.6"
  }
 },
 "nbformat": 4,
 "nbformat_minor": 4
}
